{
 "cells": [
  {
   "cell_type": "code",
   "execution_count": 1,
   "metadata": {
    "colab": {
     "base_uri": "https://localhost:8080/"
    },
    "executionInfo": {
     "elapsed": 2471,
     "status": "ok",
     "timestamp": 1669645913357,
     "user": {
      "displayName": "Koyaua Uvarov",
      "userId": "04551130653342672393"
     },
     "user_tz": -120
    },
    "id": "ZVos4heN8KGD",
    "outputId": "2bc24d00-4464-492c-8d20-ec14f62dace3"
   },
   "outputs": [
    {
     "name": "stdout",
     "output_type": "stream",
     "text": [
      "Drive already mounted at /content/gdrive/; to attempt to forcibly remount, call drive.mount(\"/content/gdrive/\", force_remount=True).\n",
      "gdrive\tsample_data\n"
     ]
    }
   ],
   "source": [
    "from google.colab import drive\n",
    "drive.mount('/content/gdrive/')\n",
    "\n",
    "!ls"
   ]
  },
  {
   "cell_type": "code",
   "execution_count": null,
   "metadata": {
    "colab": {
     "base_uri": "https://localhost:8080/"
    },
    "executionInfo": {
     "elapsed": 19208,
     "status": "ok",
     "timestamp": 1669645932560,
     "user": {
      "displayName": "Koyaua Uvarov",
      "userId": "04551130653342672393"
     },
     "user_tz": -120
    },
    "id": "MIDgYPcFu3p9",
    "outputId": "9788d79d-4f85-469f-d08c-25b7bfdb94ff"
   },
   "outputs": [
    {
     "name": "stdout",
     "output_type": "stream",
     "text": [
      "/hy-tmp\n",
      "Looking in indexes: https://mirrors.aliyun.com/pypi/simple\n",
      "Collecting fire\n",
      "  Downloading https://mirrors.aliyun.com/pypi/packages/11/07/a119a1aa04d37bc819940d95ed7e135a7dcca1c098123a3764a6dcace9e7/fire-0.4.0.tar.gz (87 kB)\n",
      "\u001b[2K     \u001b[90m━━━━━━━━━━━━━━━━━━━━━━━━━━━━━━━━━━━━━━━\u001b[0m \u001b[32m87.7/87.7 KB\u001b[0m \u001b[31m134.6 kB/s\u001b[0m eta \u001b[36m0:00:00\u001b[0ma \u001b[36m0:00:01\u001b[0m\n",
      "\u001b[?25h  Preparing metadata (setup.py) ... \u001b[?25ldone\n",
      "\u001b[?25hRequirement already satisfied: six in /usr/local/lib/python3.8/dist-packages (from fire) (1.16.0)\n",
      "Requirement already satisfied: termcolor in /usr/local/lib/python3.8/dist-packages (from fire) (1.1.0)\n",
      "Building wheels for collected packages: fire\n",
      "  Building wheel for fire (setup.py) ... \u001b[?25ldone\n",
      "\u001b[?25h  Created wheel for fire: filename=fire-0.4.0-py2.py3-none-any.whl size=115942 sha256=67095e38b8e202bff426a19c726172cefbb261e15f407c02879ccc86ca737511\n",
      "  Stored in directory: /root/.cache/pip/wheels/60/e9/76/6f1e0753c44030cb6d330e5c3d4c1217d26c81204a39ec5601\n",
      "Successfully built fire\n",
      "Installing collected packages: fire\n",
      "Successfully installed fire-0.4.0\n",
      "\u001b[33mWARNING: Running pip as the 'root' user can result in broken permissions and conflicting behaviour with the system package manager. It is recommended to use a virtual environment instead: https://pip.pypa.io/warnings/venv\u001b[0m\u001b[33m\n",
      "\u001b[0m\u001b[33mWARNING: You are using pip version 22.0.4; however, version 22.3.1 is available.\n",
      "You should consider upgrading via the '/usr/bin/python3.8 -m pip install --upgrade pip' command.\u001b[0m\u001b[33m\n",
      "\u001b[0mLooking in indexes: https://mirrors.aliyun.com/pypi/simple\n",
      "Collecting geopandas\n",
      "  Downloading https://mirrors.aliyun.com/pypi/packages/8f/4c/19856b6aff64a832f2831d5655fca7089f4cf20649c7acf756ffdaf003f5/geopandas-0.12.1-py3-none-any.whl (1.1 MB)\n",
      "\u001b[2K     \u001b[90m━━━━━━━━━━━━━━━━━━━━━━━━━━━━━━━━━━━━━━━━\u001b[0m \u001b[32m1.1/1.1 MB\u001b[0m \u001b[31m154.1 kB/s\u001b[0m eta \u001b[36m0:00:00\u001b[0m00:01\u001b[0m00:01\u001b[0m\n",
      "\u001b[?25hCollecting fiona>=1.8\n",
      "  Downloading https://mirrors.aliyun.com/pypi/packages/e2/f2/8ffc940f6dce55563bd2752d2b2a50ab4eb136c215f32597e59bcd19c7f1/Fiona-1.8.22-cp38-cp38-manylinux_2_17_x86_64.manylinux2014_x86_64.whl (16.6 MB)\n",
      "\u001b[2K     \u001b[91m━━━━━━━━━━━━━━\u001b[0m\u001b[90m╺\u001b[0m\u001b[90m━━━━━━━━━━━━━━━━━━━━━━━━━\u001b[0m \u001b[32m5.9/16.6 MB\u001b[0m \u001b[31m152.6 kB/s\u001b[0m eta \u001b[36m0:01:11\u001b[0m"
     ]
    }
   ],
   "source": [
    "import os\n",
    "\n",
    "home_dir = '/content/gdrive/My Drive/AChina'\n",
    "home_dir = '/hy-tmp'\n",
    "os.chdir(home_dir)\n",
    "!pwd\n",
    "# !ls\n",
    "# !pip3 install --upgrade IPython\n",
    "!pip install fire\n",
    "!pip install geopandas\n",
    "!pip install geojson\n",
    "!pip install tqdm\n",
    "!pip install earthengine-api\n",
    "\n",
    "from tqdm import tqdm\n",
    "import geojson\n",
    "\n",
    "from glob import glob\n",
    "\n",
    "# sudo apt-get update & apt-get upgrade\n",
    "\n",
    "# !pip install --upgrade google-api-python-client\n",
    "# !gcloud init "
   ]
  },
  {
   "cell_type": "code",
   "execution_count": null,
   "metadata": {
    "colab": {
     "base_uri": "https://localhost:8080/"
    },
    "executionInfo": {
     "elapsed": 35,
     "status": "ok",
     "timestamp": 1669645932561,
     "user": {
      "displayName": "Koyaua Uvarov",
      "userId": "04551130653342672393"
     },
     "user_tz": -120
    },
    "id": "kD9yzda9w0zV",
    "outputId": "ffeb39a1-363b-4f77-d1fe-ba57b8cc8602"
   },
   "outputs": [],
   "source": [
    "code_dir = os.path.join(home_dir, 'china')\n",
    "os.chdir(code_dir)\n",
    "!pwd\n",
    "!ls"
   ]
  },
  {
   "cell_type": "code",
   "execution_count": 4,
   "metadata": {
    "colab": {
     "base_uri": "https://localhost:8080/"
    },
    "executionInfo": {
     "elapsed": 55848,
     "status": "ok",
     "timestamp": 1669645988382,
     "user": {
      "displayName": "Koyaua Uvarov",
      "userId": "04551130653342672393"
     },
     "user_tz": -120
    },
    "id": "y_2cSAG_0UaS",
    "outputId": "b2a34c7c-542e-4514-860a-40b5470b4deb"
   },
   "outputs": [
    {
     "name": "stdout",
     "output_type": "stream",
     "text": [
      "To authorize access needed by Earth Engine, open the following URL in a web browser and follow the instructions. If the web browser does not start automatically, please manually browse the URL below.\n",
      "\n",
      "    https://code.earthengine.google.com/client-auth?scopes=https%3A//www.googleapis.com/auth/earthengine%20https%3A//www.googleapis.com/auth/devstorage.full_control&request_id=HMQU-kxtmZMX7zPBhe17Fgrh0nk9Tyg6yueilxwTCJc&tc=Zhu0VlyQDlN_sm-qEpw9wCikKh76em69oH_fKL_Y0PM&cc=nnsWUvk8lRFftaafGBWuNAUA2XNck_HH3nttLoiHXYs\n",
      "\n",
      "The authorization workflow will generate a code, which you should paste in the box below.\n",
      "Enter verification code: 4/1AfgeXvvMu-PoeNZCRcnH_IfeYtHvtSHKtxxV313CvyUm7Owt_gF_YDXDsnA\n",
      "\n",
      "Successfully saved authorization token.\n"
     ]
    }
   ],
   "source": [
    "# fn\n",
    "!earthengine authenticate --auth_mode=notebook\n",
    "!earthengine task cancel all"
   ]
  },
  {
   "cell_type": "code",
   "execution_count": 5,
   "metadata": {
    "colab": {
     "base_uri": "https://localhost:8080/"
    },
    "executionInfo": {
     "elapsed": 31,
     "status": "ok",
     "timestamp": 1669645988382,
     "user": {
      "displayName": "Koyaua Uvarov",
      "userId": "04551130653342672393"
     },
     "user_tz": -120
    },
    "id": "rqHBLpIfc_CT",
    "outputId": "d602bc34-610e-4b63-b6fa-1607c357b607"
   },
   "outputs": [
    {
     "name": "stderr",
     "output_type": "stream",
     "text": [
      "0it [00:00, ?it/s]\n",
      "0it [00:00, ?it/s]\n",
      "0it [00:00, ?it/s]\n"
     ]
    }
   ],
   "source": [
    "files = glob(os.path.join(home_dir, 'data', 'crop_yield-data_image', '*.tif'))\n",
    "for ifile in tqdm(files):\n",
    "  os.remove(ifile)\n",
    "\n",
    "files = glob(os.path.join(home_dir, 'data', 'crop_yield-data_mask', '*.tif'))\n",
    "for ifile in tqdm(files):\n",
    "  os.remove(ifile)\n",
    "\n",
    "files = glob(os.path.join(home_dir, 'data', 'crop_yield-data_temperature', '*.tif'))\n",
    "for ifile in tqdm(files):\n",
    "  os.remove(ifile)"
   ]
  },
  {
   "cell_type": "code",
   "execution_count": null,
   "metadata": {
    "colab": {
     "base_uri": "https://localhost:8080/"
    },
    "id": "wuRn4MqKNOIt",
    "outputId": "57944391-36cf-4583-c148-459e476a7fc7"
   },
   "outputs": [
    {
     "name": "stdout",
     "output_type": "stream",
     "text": [
      "/content/gdrive/My Drive/AChina/china\n",
      "MODISExporter TASK : \n",
      "{\n",
      "    \"YIELD_DATA_PATH\": \"../wheat.csv\",\n",
      "    \"CLEAR_YIELD_DATA_PATH\": \"../wheat.csv\",\n",
      "    \"MASK_PATH\": \"../data/crop_yield-data_mask\",\n",
      "    \"TEMPERATURE_PATH\": \"../data/crop_yield-data_temperature\",\n",
      "    \"IMAGE_PATH\": \"../data/crop_yield-data_image\",\n",
      "    \"CLEANED_DATA_PATH\": \"../data/img_output\",\n",
      "    \"COUNTY_DATA_PATH\": \"../county_data.csv\",\n",
      "    \"MODELS_PATH\": \"../data/models\",\n",
      "    \"RANGE_DOWNLOAD\": [\n",
      "        \"2017-01-01\",\n",
      "        \"2018-12-31\"\n",
      "    ],\n",
      "    \"NUM_PROC_YEARS\": 2\n",
      "}\n",
      "The Earth Engine package initialized successfully!\n",
      "476it [00:02, 214.21it/s]\n",
      "Feature collection done\n",
      "export -> download_folder :  ../data/crop_yield-data_image\n",
      "Exporting to crop_yield-data_image/1_0 with CRS=EPSG:4326\n",
      "Done: {'state': 'READY', 'description': '1_0', 'creation_timestamp_ms': 1669646017966, 'update_timestamp_ms': 1669646017966, 'start_timestamp_ms': 0, 'task_type': 'EXPORT_IMAGE', 'id': 'URAE7YIN6MZUHDAKKZVWMN2V', 'name': 'projects/earthengine-legacy/operations/URAE7YIN6MZUHDAKKZVWMN2V'}\n",
      "Exporting to crop_yield-data_image/1_1 with CRS=EPSG:4326\n",
      "Done: {'state': 'READY', 'description': '1_1', 'creation_timestamp_ms': 1669646038034, 'update_timestamp_ms': 1669646038034, 'start_timestamp_ms': 0, 'task_type': 'EXPORT_IMAGE', 'id': 'G2E6QQIQAI2OYD2TSEQ7ZKKI', 'name': 'projects/earthengine-legacy/operations/G2E6QQIQAI2OYD2TSEQ7ZKKI'}\n",
      "Exporting to crop_yield-data_image/1_2 with CRS=EPSG:4326\n",
      "Done: {'state': 'READY', 'description': '1_2', 'creation_timestamp_ms': 1669646057470, 'update_timestamp_ms': 1669646057470, 'start_timestamp_ms': 0, 'task_type': 'EXPORT_IMAGE', 'id': 'FPMSP46V4F5Z7UZ3IMOME6G7', 'name': 'projects/earthengine-legacy/operations/FPMSP46V4F5Z7UZ3IMOME6G7'}\n",
      "Exporting to crop_yield-data_image/1_3 with CRS=EPSG:4326\n",
      "Done: {'state': 'READY', 'description': '1_3', 'creation_timestamp_ms': 1669646076164, 'update_timestamp_ms': 1669646076164, 'start_timestamp_ms': 0, 'task_type': 'EXPORT_IMAGE', 'id': 'GMZPEVAHPSNKAKMCGOY5U7J6', 'name': 'projects/earthengine-legacy/operations/GMZPEVAHPSNKAKMCGOY5U7J6'}\n",
      "Exporting to crop_yield-data_image/1_4 with CRS=EPSG:4326\n",
      "Done: {'state': 'READY', 'description': '1_4', 'creation_timestamp_ms': 1669646095537, 'update_timestamp_ms': 1669646095537, 'start_timestamp_ms': 0, 'task_type': 'EXPORT_IMAGE', 'id': 'EUJM5TQ3R6SOCTWZAC3CZNAN', 'name': 'projects/earthengine-legacy/operations/EUJM5TQ3R6SOCTWZAC3CZNAN'}\n",
      "Exporting to crop_yield-data_image/1_5 with CRS=EPSG:4326\n",
      "Done: {'state': 'READY', 'description': '1_5', 'creation_timestamp_ms': 1669646114954, 'update_timestamp_ms': 1669646114954, 'start_timestamp_ms': 0, 'task_type': 'EXPORT_IMAGE', 'id': 'PRAWUJA52AM3VIEL36J5MLB2', 'name': 'projects/earthengine-legacy/operations/PRAWUJA52AM3VIEL36J5MLB2'}\n",
      "Exporting to crop_yield-data_image/1_6 with CRS=EPSG:4326\n",
      "Done: {'state': 'READY', 'description': '1_6', 'creation_timestamp_ms': 1669646133277, 'update_timestamp_ms': 1669646133277, 'start_timestamp_ms': 0, 'task_type': 'EXPORT_IMAGE', 'id': '62Q2O7WUDD3EXSKNVCQGOFZC', 'name': 'projects/earthengine-legacy/operations/62Q2O7WUDD3EXSKNVCQGOFZC'}\n",
      "Exporting to crop_yield-data_image/1_7 with CRS=EPSG:4326\n",
      "Done: {'state': 'READY', 'description': '1_7', 'creation_timestamp_ms': 1669646153003, 'update_timestamp_ms': 1669646153003, 'start_timestamp_ms': 0, 'task_type': 'EXPORT_IMAGE', 'id': 'X35L3LGN7P6ZINMJCVTJRNCA', 'name': 'projects/earthengine-legacy/operations/X35L3LGN7P6ZINMJCVTJRNCA'}\n",
      "Exporting to crop_yield-data_image/1_8 with CRS=EPSG:4326\n",
      "Done: {'state': 'READY', 'description': '1_8', 'creation_timestamp_ms': 1669646172962, 'update_timestamp_ms': 1669646172962, 'start_timestamp_ms': 0, 'task_type': 'EXPORT_IMAGE', 'id': 'XPEMFKUOTOL66KCG4372BL6E', 'name': 'projects/earthengine-legacy/operations/XPEMFKUOTOL66KCG4372BL6E'}\n",
      "Exporting to crop_yield-data_image/1_9 with CRS=EPSG:4326\n",
      "Done: {'state': 'READY', 'description': '1_9', 'creation_timestamp_ms': 1669646192287, 'update_timestamp_ms': 1669646192287, 'start_timestamp_ms': 0, 'task_type': 'EXPORT_IMAGE', 'id': 'VVCS6VOBD2N5ENOTGOY5ZPPR', 'name': 'projects/earthengine-legacy/operations/VVCS6VOBD2N5ENOTGOY5ZPPR'}\n",
      "Exporting to crop_yield-data_image/1_10 with CRS=EPSG:4326\n",
      "Done: {'state': 'READY', 'description': '1_10', 'creation_timestamp_ms': 1669646211718, 'update_timestamp_ms': 1669646211718, 'start_timestamp_ms': 0, 'task_type': 'EXPORT_IMAGE', 'id': 'HRABRAQL6QNFXLARKIZM32B7', 'name': 'projects/earthengine-legacy/operations/HRABRAQL6QNFXLARKIZM32B7'}\n",
      "Exporting to crop_yield-data_image/1_11 with CRS=EPSG:4326\n",
      "Done: {'state': 'READY', 'description': '1_11', 'creation_timestamp_ms': 1669646231254, 'update_timestamp_ms': 1669646231254, 'start_timestamp_ms': 0, 'task_type': 'EXPORT_IMAGE', 'id': 'GODIDNRGPNXHEPLSFLDW6ZBC', 'name': 'projects/earthengine-legacy/operations/GODIDNRGPNXHEPLSFLDW6ZBC'}\n",
      "Exporting to crop_yield-data_image/1_12 with CRS=EPSG:4326\n",
      "Done: {'state': 'READY', 'description': '1_12', 'creation_timestamp_ms': 1669646250255, 'update_timestamp_ms': 1669646250255, 'start_timestamp_ms': 0, 'task_type': 'EXPORT_IMAGE', 'id': 'U5BKBODJMIO3S4D3GUQY67LJ', 'name': 'projects/earthengine-legacy/operations/U5BKBODJMIO3S4D3GUQY67LJ'}\n",
      "Exporting to crop_yield-data_image/1_13 with CRS=EPSG:4326\n",
      "Done: {'state': 'READY', 'description': '1_13', 'creation_timestamp_ms': 1669646268727, 'update_timestamp_ms': 1669646268727, 'start_timestamp_ms': 0, 'task_type': 'EXPORT_IMAGE', 'id': 'JJBDM7WCIPYBCZLO5DXUKDUV', 'name': 'projects/earthengine-legacy/operations/JJBDM7WCIPYBCZLO5DXUKDUV'}\n",
      "Exporting to crop_yield-data_image/1_14 with CRS=EPSG:4326\n",
      "Done: {'state': 'READY', 'description': '1_14', 'creation_timestamp_ms': 1669646288457, 'update_timestamp_ms': 1669646288457, 'start_timestamp_ms': 0, 'task_type': 'EXPORT_IMAGE', 'id': 'QE4F3NTU47UHBOSHYGVDEDLG', 'name': 'projects/earthengine-legacy/operations/QE4F3NTU47UHBOSHYGVDEDLG'}\n",
      "Exporting to crop_yield-data_image/1_15 with CRS=EPSG:4326\n",
      "Done: {'state': 'READY', 'description': '1_15', 'creation_timestamp_ms': 1669646307691, 'update_timestamp_ms': 1669646307691, 'start_timestamp_ms': 0, 'task_type': 'EXPORT_IMAGE', 'id': 'THHYSSTXGETHEHWNV4C6KYA5', 'name': 'projects/earthengine-legacy/operations/THHYSSTXGETHEHWNV4C6KYA5'}\n",
      "Exporting to crop_yield-data_image/1_16 with CRS=EPSG:4326\n",
      "Done: {'state': 'READY', 'description': '1_16', 'creation_timestamp_ms': 1669646326648, 'update_timestamp_ms': 1669646326648, 'start_timestamp_ms': 0, 'task_type': 'EXPORT_IMAGE', 'id': '3DV4W6VEIMXWRIWEKHLH6QJR', 'name': 'projects/earthengine-legacy/operations/3DV4W6VEIMXWRIWEKHLH6QJR'}\n",
      "Exporting to crop_yield-data_image/1_17 with CRS=EPSG:4326\n",
      "Done: {'state': 'READY', 'description': '1_17', 'creation_timestamp_ms': 1669646345070, 'update_timestamp_ms': 1669646345070, 'start_timestamp_ms': 0, 'task_type': 'EXPORT_IMAGE', 'id': 'X3J2J2KTYKDCNXJU24ZLY3LU', 'name': 'projects/earthengine-legacy/operations/X3J2J2KTYKDCNXJU24ZLY3LU'}\n",
      "Exporting to crop_yield-data_image/1_19 with CRS=EPSG:4326\n",
      "Done: {'state': 'READY', 'description': '1_19', 'creation_timestamp_ms': 1669646364539, 'update_timestamp_ms': 1669646364539, 'start_timestamp_ms': 0, 'task_type': 'EXPORT_IMAGE', 'id': '6I55FGJ5V3GGJAFQNWA5BPAN', 'name': 'projects/earthengine-legacy/operations/6I55FGJ5V3GGJAFQNWA5BPAN'}\n",
      "Exporting to crop_yield-data_image/1_20 with CRS=EPSG:4326\n",
      "Done: {'state': 'READY', 'description': '1_20', 'creation_timestamp_ms': 1669646383052, 'update_timestamp_ms': 1669646383052, 'start_timestamp_ms': 0, 'task_type': 'EXPORT_IMAGE', 'id': 'PCSOCEIIT6YEYT5FT253ZT7A', 'name': 'projects/earthengine-legacy/operations/PCSOCEIIT6YEYT5FT253ZT7A'}\n",
      "Exporting to crop_yield-data_image/1_21 with CRS=EPSG:4326\n",
      "Done: {'state': 'READY', 'description': '1_21', 'creation_timestamp_ms': 1669646402450, 'update_timestamp_ms': 1669646402450, 'start_timestamp_ms': 0, 'task_type': 'EXPORT_IMAGE', 'id': '6N5LUHPIAHOT2U7H23JLCNVT', 'name': 'projects/earthengine-legacy/operations/6N5LUHPIAHOT2U7H23JLCNVT'}\n",
      "Exporting to crop_yield-data_image/1_22 with CRS=EPSG:4326\n",
      "Done: {'state': 'READY', 'description': '1_22', 'creation_timestamp_ms': 1669646421819, 'update_timestamp_ms': 1669646421819, 'start_timestamp_ms': 0, 'task_type': 'EXPORT_IMAGE', 'id': 'YHRNGOBO4KHVVNZFFCVHPCK6', 'name': 'projects/earthengine-legacy/operations/YHRNGOBO4KHVVNZFFCVHPCK6'}\n",
      "Exporting to crop_yield-data_image/1_23 with CRS=EPSG:4326\n",
      "Done: {'state': 'READY', 'description': '1_23', 'creation_timestamp_ms': 1669646441112, 'update_timestamp_ms': 1669646441112, 'start_timestamp_ms': 0, 'task_type': 'EXPORT_IMAGE', 'id': 'WHDCMZXK43MMVDT7ESCVSF3B', 'name': 'projects/earthengine-legacy/operations/WHDCMZXK43MMVDT7ESCVSF3B'}\n",
      "Exporting to crop_yield-data_image/1_24 with CRS=EPSG:4326\n",
      "Done: {'state': 'READY', 'description': '1_24', 'creation_timestamp_ms': 1669646459664, 'update_timestamp_ms': 1669646459664, 'start_timestamp_ms': 0, 'task_type': 'EXPORT_IMAGE', 'id': 'ZPRCZOHICYMTGTJED46UTW6R', 'name': 'projects/earthengine-legacy/operations/ZPRCZOHICYMTGTJED46UTW6R'}\n",
      "Exporting to crop_yield-data_image/1_25 with CRS=EPSG:4326\n",
      "Done: {'state': 'READY', 'description': '1_25', 'creation_timestamp_ms': 1669646479550, 'update_timestamp_ms': 1669646479550, 'start_timestamp_ms': 0, 'task_type': 'EXPORT_IMAGE', 'id': 'X2GSKP7JYJHANFWQ2ZPNSV3M', 'name': 'projects/earthengine-legacy/operations/X2GSKP7JYJHANFWQ2ZPNSV3M'}\n",
      "Exporting to crop_yield-data_image/1_26 with CRS=EPSG:4326\n",
      "Done: {'state': 'READY', 'description': '1_26', 'creation_timestamp_ms': 1669646497761, 'update_timestamp_ms': 1669646497761, 'start_timestamp_ms': 0, 'task_type': 'EXPORT_IMAGE', 'id': 'RNOJPAU7JP7E2PQ4NAGVKECE', 'name': 'projects/earthengine-legacy/operations/RNOJPAU7JP7E2PQ4NAGVKECE'}\n",
      "Exporting to crop_yield-data_image/1_27 with CRS=EPSG:4326\n",
      "Done: {'state': 'READY', 'description': '1_27', 'creation_timestamp_ms': 1669646516448, 'update_timestamp_ms': 1669646516448, 'start_timestamp_ms': 0, 'task_type': 'EXPORT_IMAGE', 'id': 'QSUP2HL3ETTT6X2T2EXWK5FN', 'name': 'projects/earthengine-legacy/operations/QSUP2HL3ETTT6X2T2EXWK5FN'}\n",
      "Exporting to crop_yield-data_image/1_29 with CRS=EPSG:4326\n",
      "Done: {'state': 'READY', 'description': '1_29', 'creation_timestamp_ms': 1669646534955, 'update_timestamp_ms': 1669646534955, 'start_timestamp_ms': 0, 'task_type': 'EXPORT_IMAGE', 'id': 'LRFJJLNVNIRCZLJAATPZ6XXV', 'name': 'projects/earthengine-legacy/operations/LRFJJLNVNIRCZLJAATPZ6XXV'}\n",
      "Exporting to crop_yield-data_image/1_30 with CRS=EPSG:4326\n",
      "Done: {'state': 'READY', 'description': '1_30', 'creation_timestamp_ms': 1669646554754, 'update_timestamp_ms': 1669646554754, 'start_timestamp_ms': 0, 'task_type': 'EXPORT_IMAGE', 'id': 'DL2FAK27UTXK4RIWW3BORPOO', 'name': 'projects/earthengine-legacy/operations/DL2FAK27UTXK4RIWW3BORPOO'}\n",
      "Finished Exporting 29 files!\n",
      "export -> download_folder :  ../data/crop_yield-data_mask\n",
      "Exporting to crop_yield-data_mask/1_0 with CRS=EPSG:4326\n",
      "Done: {'state': 'READY', 'description': '1_0', 'creation_timestamp_ms': 1669646573580, 'update_timestamp_ms': 1669646573580, 'start_timestamp_ms': 0, 'task_type': 'EXPORT_IMAGE', 'id': 'YNBCDO732DLOH3E2YLISRJQH', 'name': 'projects/earthengine-legacy/operations/YNBCDO732DLOH3E2YLISRJQH'}\n",
      "Exporting to crop_yield-data_mask/1_1 with CRS=EPSG:4326\n",
      "Done: {'state': 'READY', 'description': '1_1', 'creation_timestamp_ms': 1669646591826, 'update_timestamp_ms': 1669646591826, 'start_timestamp_ms': 0, 'task_type': 'EXPORT_IMAGE', 'id': 'UDA6UA3ESBGANNIICPLWBRBC', 'name': 'projects/earthengine-legacy/operations/UDA6UA3ESBGANNIICPLWBRBC'}\n",
      "Exporting to crop_yield-data_mask/1_2 with CRS=EPSG:4326\n",
      "Done: {'state': 'READY', 'description': '1_2', 'creation_timestamp_ms': 1669646611391, 'update_timestamp_ms': 1669646611391, 'start_timestamp_ms': 0, 'task_type': 'EXPORT_IMAGE', 'id': 'VPBUOAG4LHWPAB4O7G6RV7AC', 'name': 'projects/earthengine-legacy/operations/VPBUOAG4LHWPAB4O7G6RV7AC'}\n",
      "Exporting to crop_yield-data_mask/1_3 with CRS=EPSG:4326\n",
      "Done: {'state': 'READY', 'description': '1_3', 'creation_timestamp_ms': 1669646630883, 'update_timestamp_ms': 1669646630883, 'start_timestamp_ms': 0, 'task_type': 'EXPORT_IMAGE', 'id': '4BTW42KP3FSQKKUXM6CZDAHJ', 'name': 'projects/earthengine-legacy/operations/4BTW42KP3FSQKKUXM6CZDAHJ'}\n",
      "Exporting to crop_yield-data_mask/1_4 with CRS=EPSG:4326\n",
      "Done: {'state': 'READY', 'description': '1_4', 'creation_timestamp_ms': 1669646650500, 'update_timestamp_ms': 1669646650500, 'start_timestamp_ms': 0, 'task_type': 'EXPORT_IMAGE', 'id': 'M7M5LLSMS75HPOPVZKQZ7ARS', 'name': 'projects/earthengine-legacy/operations/M7M5LLSMS75HPOPVZKQZ7ARS'}\n",
      "Exporting to crop_yield-data_mask/1_5 with CRS=EPSG:4326\n",
      "Done: {'state': 'READY', 'description': '1_5', 'creation_timestamp_ms': 1669646669575, 'update_timestamp_ms': 1669646669575, 'start_timestamp_ms': 0, 'task_type': 'EXPORT_IMAGE', 'id': 'PBAXKDCJMH3RZBLNOGFA5MLF', 'name': 'projects/earthengine-legacy/operations/PBAXKDCJMH3RZBLNOGFA5MLF'}\n",
      "Exporting to crop_yield-data_mask/1_6 with CRS=EPSG:4326\n",
      "Done: {'state': 'READY', 'description': '1_6', 'creation_timestamp_ms': 1669646688285, 'update_timestamp_ms': 1669646688285, 'start_timestamp_ms': 0, 'task_type': 'EXPORT_IMAGE', 'id': 'QD6B3NJR2JW2MTRYDQJ7ZKCH', 'name': 'projects/earthengine-legacy/operations/QD6B3NJR2JW2MTRYDQJ7ZKCH'}\n",
      "Exporting to crop_yield-data_mask/1_7 with CRS=EPSG:4326\n",
      "Done: {'state': 'READY', 'description': '1_7', 'creation_timestamp_ms': 1669646706856, 'update_timestamp_ms': 1669646706856, 'start_timestamp_ms': 0, 'task_type': 'EXPORT_IMAGE', 'id': 'R25Z3ABPS6NXPDYXORIKHHP6', 'name': 'projects/earthengine-legacy/operations/R25Z3ABPS6NXPDYXORIKHHP6'}\n",
      "Exporting to crop_yield-data_mask/1_8 with CRS=EPSG:4326\n",
      "Done: {'state': 'READY', 'description': '1_8', 'creation_timestamp_ms': 1669646725144, 'update_timestamp_ms': 1669646725144, 'start_timestamp_ms': 0, 'task_type': 'EXPORT_IMAGE', 'id': 'YPGXLH4ZEGDR54H33LPY26SV', 'name': 'projects/earthengine-legacy/operations/YPGXLH4ZEGDR54H33LPY26SV'}\n",
      "Exporting to crop_yield-data_mask/1_9 with CRS=EPSG:4326\n",
      "Done: {'state': 'READY', 'description': '1_9', 'creation_timestamp_ms': 1669646744225, 'update_timestamp_ms': 1669646744225, 'start_timestamp_ms': 0, 'task_type': 'EXPORT_IMAGE', 'id': 'II3WNYOYHOERA3TYH3VNTTDR', 'name': 'projects/earthengine-legacy/operations/II3WNYOYHOERA3TYH3VNTTDR'}\n",
      "Exporting to crop_yield-data_mask/1_10 with CRS=EPSG:4326\n",
      "Done: {'state': 'READY', 'description': '1_10', 'creation_timestamp_ms': 1669646764010, 'update_timestamp_ms': 1669646764010, 'start_timestamp_ms': 0, 'task_type': 'EXPORT_IMAGE', 'id': '2TXH7EREXUM2DSN2X3K35MGY', 'name': 'projects/earthengine-legacy/operations/2TXH7EREXUM2DSN2X3K35MGY'}\n",
      "Exporting to crop_yield-data_mask/1_11 with CRS=EPSG:4326\n",
      "Done: {'state': 'READY', 'description': '1_11', 'creation_timestamp_ms': 1669646782775, 'update_timestamp_ms': 1669646782775, 'start_timestamp_ms': 0, 'task_type': 'EXPORT_IMAGE', 'id': 'WSY3RABARE3MWE4JKE52RD4R', 'name': 'projects/earthengine-legacy/operations/WSY3RABARE3MWE4JKE52RD4R'}\n",
      "Exporting to crop_yield-data_mask/1_12 with CRS=EPSG:4326\n",
      "Done: {'state': 'READY', 'description': '1_12', 'creation_timestamp_ms': 1669646802559, 'update_timestamp_ms': 1669646802559, 'start_timestamp_ms': 0, 'task_type': 'EXPORT_IMAGE', 'id': 'W22XW3ECT6HKY3KHIB5DCG2I', 'name': 'projects/earthengine-legacy/operations/W22XW3ECT6HKY3KHIB5DCG2I'}\n",
      "Exporting to crop_yield-data_mask/1_13 with CRS=EPSG:4326\n",
      "Done: {'state': 'READY', 'description': '1_13', 'creation_timestamp_ms': 1669646821843, 'update_timestamp_ms': 1669646821843, 'start_timestamp_ms': 0, 'task_type': 'EXPORT_IMAGE', 'id': 'FD227QD2FLPSPZXY5UQNKZLI', 'name': 'projects/earthengine-legacy/operations/FD227QD2FLPSPZXY5UQNKZLI'}\n",
      "Exporting to crop_yield-data_mask/1_14 with CRS=EPSG:4326\n",
      "Done: {'state': 'READY', 'description': '1_14', 'creation_timestamp_ms': 1669646840181, 'update_timestamp_ms': 1669646840181, 'start_timestamp_ms': 0, 'task_type': 'EXPORT_IMAGE', 'id': '6EKTG4AZG6FDJYKB6QHEDXPE', 'name': 'projects/earthengine-legacy/operations/6EKTG4AZG6FDJYKB6QHEDXPE'}\n",
      "Exporting to crop_yield-data_mask/1_15 with CRS=EPSG:4326\n",
      "Done: {'state': 'READY', 'description': '1_15', 'creation_timestamp_ms': 1669646859482, 'update_timestamp_ms': 1669646859482, 'start_timestamp_ms': 0, 'task_type': 'EXPORT_IMAGE', 'id': 'F7Q4LPUAM4UMLZ6ZEBSTXUCY', 'name': 'projects/earthengine-legacy/operations/F7Q4LPUAM4UMLZ6ZEBSTXUCY'}\n",
      "Exporting to crop_yield-data_mask/1_16 with CRS=EPSG:4326\n",
      "Done: {'state': 'READY', 'description': '1_16', 'creation_timestamp_ms': 1669646877727, 'update_timestamp_ms': 1669646877727, 'start_timestamp_ms': 0, 'task_type': 'EXPORT_IMAGE', 'id': 'UPRO4SLEINNWVOKNWDKHK6Q3', 'name': 'projects/earthengine-legacy/operations/UPRO4SLEINNWVOKNWDKHK6Q3'}\n",
      "Exporting to crop_yield-data_mask/1_17 with CRS=EPSG:4326\n",
      "Done: {'state': 'READY', 'description': '1_17', 'creation_timestamp_ms': 1669646896262, 'update_timestamp_ms': 1669646896262, 'start_timestamp_ms': 0, 'task_type': 'EXPORT_IMAGE', 'id': 'JHNGMYMLD6WCXR2URAXZRHXF', 'name': 'projects/earthengine-legacy/operations/JHNGMYMLD6WCXR2URAXZRHXF'}\n",
      "Exporting to crop_yield-data_mask/1_19 with CRS=EPSG:4326\n",
      "Done: {'state': 'READY', 'description': '1_19', 'creation_timestamp_ms': 1669646914731, 'update_timestamp_ms': 1669646914731, 'start_timestamp_ms': 0, 'task_type': 'EXPORT_IMAGE', 'id': '4BMJQG6JNBYKEKGWQ335CHEP', 'name': 'projects/earthengine-legacy/operations/4BMJQG6JNBYKEKGWQ335CHEP'}\n",
      "Exporting to crop_yield-data_mask/1_20 with CRS=EPSG:4326\n",
      "Done: {'state': 'READY', 'description': '1_20', 'creation_timestamp_ms': 1669646933752, 'update_timestamp_ms': 1669646933752, 'start_timestamp_ms': 0, 'task_type': 'EXPORT_IMAGE', 'id': 'XDNLKE6SQI24RRCXV2CGMXA6', 'name': 'projects/earthengine-legacy/operations/XDNLKE6SQI24RRCXV2CGMXA6'}\n",
      "Exporting to crop_yield-data_mask/1_21 with CRS=EPSG:4326\n",
      "Done: {'state': 'READY', 'description': '1_21', 'creation_timestamp_ms': 1669646953564, 'update_timestamp_ms': 1669646953564, 'start_timestamp_ms': 0, 'task_type': 'EXPORT_IMAGE', 'id': 'GUJZA5QPV6U6ZASNOZGPHAKT', 'name': 'projects/earthengine-legacy/operations/GUJZA5QPV6U6ZASNOZGPHAKT'}\n",
      "Exporting to crop_yield-data_mask/1_22 with CRS=EPSG:4326\n"
     ]
    }
   ],
   "source": [
    "# fin\n",
    "!pwd\n",
    "# !python run.py process\n",
    "!python run.py export"
   ]
  },
  {
   "cell_type": "code",
   "execution_count": null,
   "metadata": {
    "id": "BFoqljKP35TH"
   },
   "outputs": [],
   "source": [
    "!earthengine task list\n",
    "\n",
    "fn\n",
    "!earthengine authenticate"
   ]
  },
  {
   "cell_type": "code",
   "execution_count": null,
   "metadata": {
    "id": "7wj8YPCy35jO"
   },
   "outputs": [],
   "source": []
  }
 ],
 "metadata": {
  "colab": {
   "authorship_tag": "ABX9TyN7gbEwiO9YuOyhNneUg6ul",
   "provenance": []
  },
  "kernelspec": {
   "display_name": "Python 3 (ipykernel)",
   "language": "python",
   "name": "python3"
  },
  "language_info": {
   "codemirror_mode": {
    "name": "ipython",
    "version": 3
   },
   "file_extension": ".py",
   "mimetype": "text/x-python",
   "name": "python",
   "nbconvert_exporter": "python",
   "pygments_lexer": "ipython3",
   "version": "3.8.10"
  }
 },
 "nbformat": 4,
 "nbformat_minor": 4
}
