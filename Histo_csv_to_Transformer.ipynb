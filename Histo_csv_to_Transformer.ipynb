{
 "cells": [
  {
   "cell_type": "code",
   "execution_count": 1,
   "metadata": {
    "colab": {
     "base_uri": "https://localhost:8080/"
    },
    "id": "EtSF_kNKPhNd",
    "outputId": "9451dcd3-becb-4553-ff1c-9caf35249002"
   },
   "outputs": [
    {
     "name": "stdout",
     "output_type": "stream",
     "text": [
      "Drive already mounted at /content/gdrive/; to attempt to forcibly remount, call drive.mount(\"/content/gdrive/\", force_remount=True).\n",
      "gdrive\tsample_data\n"
     ]
    }
   ],
   "source": [
    "from google.colab import drive\n",
    "drive.mount('/content/gdrive/')\n",
    "\n",
    "!ls"
   ]
  },
  {
   "cell_type": "code",
   "execution_count": 1,
   "metadata": {
    "colab": {
     "base_uri": "https://localhost:8080/"
    },
    "id": "opYlvyWWPpq2",
    "outputId": "15a5a61a-f491-4103-84c9-6e850f4371e3"
   },
   "outputs": [
    {
     "name": "stdout",
     "output_type": "stream",
     "text": [
      "/hy-tmp\n",
      "Looking in indexes: https://mirrors.aliyun.com/pypi/simple\n",
      "Requirement already satisfied: tqdm in /usr/local/lib/python3.8/dist-packages (4.64.1)\n",
      "\u001b[33mWARNING: Running pip as the 'root' user can result in broken permissions and conflicting behaviour with the system package manager. It is recommended to use a virtual environment instead: https://pip.pypa.io/warnings/venv\u001b[0m\u001b[33m\n",
      "\u001b[0m\u001b[33mWARNING: You are using pip version 22.0.4; however, version 22.3.1 is available.\n",
      "You should consider upgrading via the '/usr/bin/python3.8 -m pip install --upgrade pip' command.\u001b[0m\u001b[33m\n",
      "\u001b[0m"
     ]
    }
   ],
   "source": [
    "import os\n",
    "\n",
    "home_dir = '/content/gdrive/My Drive/ATFTransformer'\n",
    "home_dir = '/hy-tmp'\n",
    "os.chdir(home_dir)\n",
    "!pwd\n",
    "\n",
    "!pip install tqdm\n",
    "from glob import glob\n",
    "from tqdm import tqdm\n",
    "\n",
    "import numpy as np\n",
    "import pandas as pd"
   ]
  },
  {
   "cell_type": "code",
   "execution_count": 2,
   "metadata": {
    "colab": {
     "base_uri": "https://localhost:8080/"
    },
    "id": "StcBVNPFPu7D",
    "outputId": "20208991-2fea-42db-d805-1a92f549c1a8"
   },
   "outputs": [
    {
     "name": "stdout",
     "output_type": "stream",
     "text": [
      "/hy-tmp\n",
      "['/hy-tmp/histogram_all_full.npz']\n"
     ]
    }
   ],
   "source": [
    "data_dir = os.path.join(home_dir)\n",
    "os.chdir(data_dir)\n",
    "!pwd\n",
    "# !ls\n",
    "\n",
    "files = glob(os.path.join(data_dir, '*.npz'))\n",
    "\n",
    "print(files)"
   ]
  },
  {
   "cell_type": "code",
   "execution_count": 3,
   "metadata": {
    "colab": {
     "base_uri": "https://localhost:8080/"
    },
    "id": "cNJROYwxP93k",
    "outputId": "e5f35caf-01a5-4e73-f59f-0cd6deb0f998"
   },
   "outputs": [
    {
     "name": "stdout",
     "output_type": "stream",
     "text": [
      "<class 'numpy.lib.npyio.NpzFile'> ['output_image', 'output_yield', 'output_year', 'output_locations', 'output_index', 'output_areas']\n"
     ]
    }
   ],
   "source": [
    "hists = np.load(files[0])\n",
    "\n",
    "print(type(hists), list(hists.keys()))"
   ]
  },
  {
   "cell_type": "code",
   "execution_count": null,
   "metadata": {
    "colab": {
     "base_uri": "https://localhost:8080/"
    },
    "id": "qk-bTHEGVV0T",
    "outputId": "acca5eb3-8902-403f-a8e6-604f26ba83d4"
   },
   "outputs": [
    {
     "name": "stdout",
     "output_type": "stream",
     "text": [
      "<class 'numpy.ndarray'> (319, 9, 32, 512)\n",
      "['bin0', 'bin1', 'bin2', 'bin3', 'bin4', 'bin5', 'bin6', 'bin7', 'bin8', 'bin9', 'bin10', 'bin11', 'bin12', 'bin13', 'bin14', 'bin15', 'bin16', 'bin17', 'bin18', 'bin19', 'bin20', 'bin21', 'bin22', 'bin23', 'bin24', 'bin25', 'bin26', 'bin27', 'bin28', 'bin29', 'bin30', 'bin31', 'bin32', 'bin33', 'bin34', 'bin35', 'bin36', 'bin37', 'bin38', 'bin39', 'bin40', 'bin41', 'bin42', 'bin43', 'bin44', 'bin45', 'bin46', 'bin47', 'bin48', 'bin49', 'bin50', 'bin51', 'bin52', 'bin53', 'bin54', 'bin55', 'bin56', 'bin57', 'bin58', 'bin59', 'bin60', 'bin61', 'bin62', 'bin63', 'bin64', 'bin65', 'bin66', 'bin67', 'bin68', 'bin69', 'bin70', 'bin71', 'bin72', 'bin73', 'bin74', 'bin75', 'bin76', 'bin77', 'bin78', 'bin79', 'bin80', 'bin81', 'bin82', 'bin83', 'bin84', 'bin85', 'bin86', 'bin87', 'bin88', 'bin89', 'bin90', 'bin91', 'bin92', 'bin93', 'bin94', 'bin95', 'bin96', 'bin97', 'bin98', 'bin99', 'bin100', 'bin101', 'bin102', 'bin103', 'bin104', 'bin105', 'bin106', 'bin107', 'bin108', 'bin109', 'bin110', 'bin111', 'bin112', 'bin113', 'bin114', 'bin115', 'bin116', 'bin117', 'bin118', 'bin119', 'bin120', 'bin121', 'bin122', 'bin123', 'bin124', 'bin125', 'bin126', 'bin127', 'bin128', 'bin129', 'bin130', 'bin131', 'bin132', 'bin133', 'bin134', 'bin135', 'bin136', 'bin137', 'bin138', 'bin139', 'bin140', 'bin141', 'bin142', 'bin143', 'bin144', 'bin145', 'bin146', 'bin147', 'bin148', 'bin149', 'bin150', 'bin151', 'bin152', 'bin153', 'bin154', 'bin155', 'bin156', 'bin157', 'bin158', 'bin159', 'bin160', 'bin161', 'bin162', 'bin163', 'bin164', 'bin165', 'bin166', 'bin167', 'bin168', 'bin169', 'bin170', 'bin171', 'bin172', 'bin173', 'bin174', 'bin175', 'bin176', 'bin177', 'bin178', 'bin179', 'bin180', 'bin181', 'bin182', 'bin183', 'bin184', 'bin185', 'bin186', 'bin187', 'bin188', 'bin189', 'bin190', 'bin191', 'bin192', 'bin193', 'bin194', 'bin195', 'bin196', 'bin197', 'bin198', 'bin199', 'bin200', 'bin201', 'bin202', 'bin203', 'bin204', 'bin205', 'bin206', 'bin207', 'bin208', 'bin209', 'bin210', 'bin211', 'bin212', 'bin213', 'bin214', 'bin215', 'bin216', 'bin217', 'bin218', 'bin219', 'bin220', 'bin221', 'bin222', 'bin223', 'bin224', 'bin225', 'bin226', 'bin227', 'bin228', 'bin229', 'bin230', 'bin231', 'bin232', 'bin233', 'bin234', 'bin235', 'bin236', 'bin237', 'bin238', 'bin239', 'bin240', 'bin241', 'bin242', 'bin243', 'bin244', 'bin245', 'bin246', 'bin247', 'bin248', 'bin249', 'bin250', 'bin251', 'bin252', 'bin253', 'bin254', 'bin255', 'bin256', 'bin257', 'bin258', 'bin259', 'bin260', 'bin261', 'bin262', 'bin263', 'bin264', 'bin265', 'bin266', 'bin267', 'bin268', 'bin269', 'bin270', 'bin271', 'bin272', 'bin273', 'bin274', 'bin275', 'bin276', 'bin277', 'bin278', 'bin279', 'bin280', 'bin281', 'bin282', 'bin283', 'bin284', 'bin285', 'bin286', 'bin287', 'bin288', 'bin289', 'bin290', 'bin291', 'bin292', 'bin293', 'bin294', 'bin295', 'bin296', 'bin297', 'bin298', 'bin299', 'bin300', 'bin301', 'bin302', 'bin303', 'bin304', 'bin305', 'bin306', 'bin307', 'bin308', 'bin309', 'bin310', 'bin311', 'bin312', 'bin313', 'bin314', 'bin315', 'bin316', 'bin317', 'bin318', 'bin319', 'bin320', 'bin321', 'bin322', 'bin323', 'bin324', 'bin325', 'bin326', 'bin327', 'bin328', 'bin329', 'bin330', 'bin331', 'bin332', 'bin333', 'bin334', 'bin335', 'bin336', 'bin337', 'bin338', 'bin339', 'bin340', 'bin341', 'bin342', 'bin343', 'bin344', 'bin345', 'bin346', 'bin347', 'bin348', 'bin349', 'bin350', 'bin351', 'bin352', 'bin353', 'bin354', 'bin355', 'bin356', 'bin357', 'bin358', 'bin359', 'bin360', 'bin361', 'bin362', 'bin363', 'bin364', 'bin365', 'bin366', 'bin367', 'bin368', 'bin369', 'bin370', 'bin371', 'bin372', 'bin373', 'bin374', 'bin375', 'bin376', 'bin377', 'bin378', 'bin379', 'bin380', 'bin381', 'bin382', 'bin383', 'bin384', 'bin385', 'bin386', 'bin387', 'bin388', 'bin389', 'bin390', 'bin391', 'bin392', 'bin393', 'bin394', 'bin395', 'bin396', 'bin397', 'bin398', 'bin399', 'bin400', 'bin401', 'bin402', 'bin403', 'bin404', 'bin405', 'bin406', 'bin407', 'bin408', 'bin409', 'bin410', 'bin411', 'bin412', 'bin413', 'bin414', 'bin415', 'bin416', 'bin417', 'bin418', 'bin419', 'bin420', 'bin421', 'bin422', 'bin423', 'bin424', 'bin425', 'bin426', 'bin427', 'bin428', 'bin429', 'bin430', 'bin431', 'bin432', 'bin433', 'bin434', 'bin435', 'bin436', 'bin437', 'bin438', 'bin439', 'bin440', 'bin441', 'bin442', 'bin443', 'bin444', 'bin445', 'bin446', 'bin447', 'bin448', 'bin449', 'bin450', 'bin451', 'bin452', 'bin453', 'bin454', 'bin455', 'bin456', 'bin457', 'bin458', 'bin459', 'bin460', 'bin461', 'bin462', 'bin463', 'bin464', 'bin465', 'bin466', 'bin467', 'bin468', 'bin469', 'bin470', 'bin471', 'bin472', 'bin473', 'bin474', 'bin475', 'bin476', 'bin477', 'bin478', 'bin479', 'bin480', 'bin481', 'bin482', 'bin483', 'bin484', 'bin485', 'bin486', 'bin487', 'bin488', 'bin489', 'bin490', 'bin491', 'bin492', 'bin493', 'bin494', 'bin495', 'bin496', 'bin497', 'bin498', 'bin499', 'bin500', 'bin501', 'bin502', 'bin503', 'bin504', 'bin505', 'bin506', 'bin507', 'bin508', 'bin509', 'bin510', 'bin511']\n",
      "(512,)\n",
      "[0.0, 0.0, 0.0, 0.0, 0.0, 0.0, 0.0, 0.0, 0.0, 0.0, 0.0, 0.0, 0.0, 0.0, 0.0, 0.0, 0.0, 0.0, 0.0, 0.0, 0.0, 0.0, 0.0, 0.0, 0.0, 0.0, 0.0, 0.0, 0.0, 0.0, 0.0, 0.0, 0.0, 0.0, 0.0, 0.0, 0.0, 0.0, 0.0, 0.0, 0.0, 0.0, 0.0, 0.0, 0.0, 0.0, 0.0, 0.0, 0.0, 0.0, 0.0, 0.0, 0.0, 0.0, 0.0, 0.0, 0.0, 0.0, 0.0, 0.0, 0.0, 0.0, 0.0, 0.0, 0.0, 0.0, 0.0, 0.0, 0.0, 0.0, 0.0, 0.0, 0.0, 0.0, 0.0, 0.0, 0.0, 0.0, 0.0, 0.0, 0.0, 0.0, 0.0, 0.0, 0.0, 0.0, 0.0, 0.0, 0.0, 0.0, 0.0, 0.0, 0.0, 0.0, 0.0, 0.0, 0.0, 0.0, 0.0, 0.0, 0.0, 0.0, 0.0, 0.0, 0.0, 0.0, 0.0, 0.0, 0.0, 0.0, 0.0, 0.0, 0.0, 0.0, 0.0, 0.0, 0.0, 0.0, 0.0, 0.0, 0.0, 0.0, 0.0, 0.0, 0.0, 0.0, 0.0, 0.0, 0.0, 0.0, 0.0, 0.0, 0.0, 0.0, 0.0, 0.0, 0.0, 0.0, 0.0, 0.0, 0.0, 0.0, 0.0, 0.0, 0.0, 0.0, 0.0, 0.0, 0.0, 0.0, 0.0, 0.0, 0.0, 0.0, 0.0, 0.0, 0.0, 0.0, 0.0, 0.0, 0.0, 0.0, 0.0, 0.0, 0.0, 0.0, 0.0, 0.0, 0.0, 0.0, 0.0, 0.0, 0.0, 0.0, 0.0, 0.0, 0.0, 0.0, 0.0, 0.0, 0.0, 0.0, 0.0, 0.0, 0.0, 0.0, 0.0, 0.0, 0.0, 0.0, 0.0, 0.0, 0.0, 0.0, 0.0, 0.0, 0.0, 0.0, 0.00011976047904191617, 0.0, 0.0003592814371257485, 0.0, 0.0, 0.0, 0.0, 0.0, 0.0, 0.0, 0.00023952095808383233, 0.00047904191616766467, 0.00011976047904191617, 0.00023952095808383233, 0.0, 0.00011976047904191617, 0.0, 0.0, 0.00011976047904191617, 0.00023952095808383233, 0.0, 0.00023952095808383233, 0.0009580838323353293, 0.00023952095808383233, 0.000718562874251497, 0.0005988023952095808, 0.00011976047904191617, 0.0003592814371257485, 0.00023952095808383233, 0.00023952095808383233, 0.00023952095808383233, 0.0009580838323353293, 0.00047904191616766467, 0.0011976047904191617, 0.0009580838323353293, 0.00023952095808383233, 0.000718562874251497, 0.0013173652694610778, 0.00023952095808383233, 0.0009580838323353293, 0.000718562874251497, 0.0009580838323353293, 0.0008383233532934132, 0.00011976047904191617, 0.0009580838323353293, 0.002035928143712575, 0.0005988023952095808, 0.0011976047904191617, 0.0011976047904191617, 0.0010778443113772455, 0.0015568862275449102, 0.0013173652694610778, 0.0019161676646706587, 0.0010778443113772455, 0.0026347305389221557, 0.0015568862275449102, 0.001437125748502994, 0.0015568862275449102, 0.0022754491017964074, 0.0022754491017964074, 0.0022754491017964074, 0.0019161676646706587, 0.0022754491017964074, 0.0016766467065868263, 0.0023952095808383233, 0.0015568862275449102, 0.0029940119760479044, 0.002155688622754491, 0.0019161676646706587, 0.005269461077844311, 0.0025149700598802397, 0.00467065868263473, 0.002874251497005988, 0.0022754491017964074, 0.002754491017964072, 0.00407185628742515, 0.002754491017964072, 0.003473053892215569, 0.002754491017964072, 0.0029940119760479044, 0.004910179640718563, 0.0029940119760479044, 0.0025149700598802397, 0.003473053892215569, 0.005269461077844311, 0.004431137724550898, 0.005508982035928144, 0.005389221556886228, 0.004550898203592815, 0.004191616766467066, 0.006347305389221557, 0.008263473053892216, 0.006706586826347305, 0.006826347305389222, 0.007904191616766467, 0.008622754491017964, 0.006946107784431138, 0.008502994011976048, 0.008263473053892216, 0.009580838323353293, 0.008383233532934131, 0.008862275449101797, 0.010658682634730538, 0.011976047904191617, 0.00934131736526946, 0.011736526946107785, 0.011616766467065867, 0.01281437125748503, 0.01125748502994012, 0.011497005988023952, 0.012335329341317366, 0.011736526946107785, 0.013173652694610778, 0.011976047904191617, 0.012335329341317366, 0.012574850299401197, 0.016047904191616766, 0.01844311377245509, 0.014610778443113773, 0.013892215568862276, 0.014970059880239521, 0.009221556886227545, 0.013053892215568862, 0.012215568862275449, 0.013772455089820359, 0.014251497005988024, 0.01341317365269461, 0.013293413173652695, 0.010898203592814371, 0.013652694610778443, 0.015089820359281437, 0.011616766467065867, 0.010778443113772455, 0.011616766467065867, 0.011736526946107785, 0.012574850299401197, 0.010778443113772455, 0.01341317365269461, 0.0118562874251497, 0.008263473053892216, 0.009700598802395209, 0.006347305389221557, 0.010778443113772455, 0.008263473053892216, 0.010179640718562874, 0.009700598802395209, 0.012694610778443114, 0.007904191616766467, 0.010059880239520959, 0.007305389221556886, 0.007544910179640718, 0.006706586826347305, 0.006227544910179641, 0.004790419161676647, 0.007305389221556886, 0.006586826347305389, 0.003952095808383234, 0.007305389221556886, 0.006107784431137724, 0.006347305389221557, 0.005029940119760479, 0.005988023952095809, 0.006946107784431138, 0.005149700598802395, 0.003473053892215569, 0.004910179640718563, 0.005269461077844311, 0.00407185628742515, 0.005748502994011976, 0.004431137724550898, 0.004431137724550898, 0.0033532934131736527, 0.004431137724550898, 0.002874251497005988, 0.0029940119760479044, 0.0009580838323353293, 0.0031137724550898203, 0.003952095808383234, 0.003592814371257485, 0.0022754491017964074, 0.0013173652694610778, 0.002155688622754491, 0.002035928143712575, 0.002155688622754491, 0.0026347305389221557, 0.0016766467065868263, 0.0016766467065868263, 0.0029940119760479044, 0.0019161676646706587, 0.0017964071856287425, 0.0019161676646706587, 0.0013173652694610778, 0.0019161676646706587, 0.0025149700598802397, 0.0013173652694610778, 0.0016766467065868263, 0.0005988023952095808, 0.0016766467065868263, 0.000718562874251497, 0.00047904191616766467, 0.0003592814371257485, 0.00047904191616766467, 0.0017964071856287425, 0.0010778443113772455, 0.0003592814371257485, 0.00011976047904191617, 0.0013173652694610778, 0.000718562874251497, 0.0003592814371257485, 0.00047904191616766467, 0.0015568862275449102, 0.0005988023952095808, 0.0009580838323353293, 0.00023952095808383233, 0.00023952095808383233, 0.0, 0.0, 0.00023952095808383233, 0.00023952095808383233, 0.00011976047904191617, 0.00047904191616766467, 0.0009580838323353293, 0.00047904191616766467, 0.00011976047904191617, 0.00023952095808383233, 0.0, 0.00047904191616766467, 0.0, 0.0, 0.00011976047904191617, 0.0, 0.0, 0.00047904191616766467, 0.00011976047904191617, 0.00011976047904191617, 0.00011976047904191617, 0.0, 0.00023952095808383233, 0.0, 0.0003592814371257485, 0.0, 0.0003592814371257485, 0.00011976047904191617, 0.00011976047904191617, 0.0, 0.0, 0.0, 0.0, 0.0, 0.00011976047904191617, 0.0, 0.00023952095808383233, 0.0, 0.000718562874251497, 0.00023952095808383233, 0.0, 0.00011976047904191617, 0.0, 0.00011976047904191617, 0.0, 0.0, 0.0, 0.0, 0.0, 0.0, 0.0, 0.0, 0.0, 0.00011976047904191617, 0.0, 0.0, 0.0, 0.0, 0.0, 0.0, 0.0, 0.0, 0.0, 0.0, 0.0, 0.0, 0.0, 0.0, 0.0, 0.0, 0.0, 0.0, 0.0, 0.0, 0.0, 0.0, 0.0, 0.0, 0.0, 0.0, 0.0, 0.0, 0.0, 0.0, 0.0, 0.0, 0.0, 0.0, 0.0, 0.0, 0.0, 0.0, 0.0, 0.0, 0.0, 0.0, 0.0, 0.0, 0.0]\n",
      "9\n"
     ]
    },
    {
     "name": "stderr",
     "output_type": "stream",
     "text": [
      " 15%|█▌        | 49/319 [2:28:57<13:50:56, 184.65s/it]"
     ]
    }
   ],
   "source": [
    "print(type(hists['output_image']), hists['output_image'].shape)\n",
    "\n",
    "bins_name = list()\n",
    "bins_valu = list()\n",
    "\n",
    "for bin in range(0, hists['output_image'].shape[3]):\n",
    "  bins_name.append(f'bin{bin}')\n",
    "\n",
    "print(bins_name)\n",
    "print(hists['output_image'][0][0][0].shape)\n",
    "print(list(hists['output_image'][0][0][0]))\n",
    "print(hists['output_index'][100][1])\n",
    "\n",
    "# fn\n",
    "\n",
    "df = pd.DataFrame()\n",
    "time_idx = 0\n",
    "index_idx = 0\n",
    "for idx in tqdm(range(0, hists['output_image'].shape[0])):\n",
    "  for time_idx in range(0, hists['output_image'].shape[2]):\n",
    "    for band_idx in range(0, hists['output_image'].shape[1]):\n",
    "      bins_dict = dict(zip(bins_name,list(hists['output_image'][idx][band_idx][time_idx])))\n",
    "\n",
    "      df1 = pd.DataFrame( hists['output_year'][idx], columns=['years'], index=[index_idx] )\n",
    "      df2 = pd.DataFrame( hists['output_yield'][idx], columns=['yield'], index=[index_idx] )\n",
    "      df3 = pd.DataFrame( hists['output_index'][idx][1], columns=['county'], index=[index_idx] )\n",
    "      df4 = pd.DataFrame( f'band_{band_idx}', columns=['bands'], index=[index_idx] )\n",
    "      df5 = pd.DataFrame( time_idx, columns=['time_idx'], index=[index_idx] )\n",
    "      df6 = pd.DataFrame(bins_dict, index=[index_idx])\n",
    "\n",
    "      df_r = pd.concat( [df1 , df2], axis=1)\n",
    "      df_r = pd.concat( [df_r, df3], axis=1)\n",
    "      df_r = pd.concat( [df_r, df4], axis=1)\n",
    "      df_r = pd.concat( [df_r, df5], axis=1)\n",
    "      df_r = pd.concat( [df_r, df6], axis=1)\n",
    "\n",
    "      df = pd.concat( [df, df_r], axis=0)\n",
    "\n",
    "      index_idx = index_idx + 1\n",
    "\n",
    "df.to_csv('china.csv')\n",
    "\n",
    "\n",
    "# fn\n",
    "# for indx in range(0, hists.shape[0]):\n",
    "#   for time_idx in range(0, hists.shape[2]):\n",
    "#     for bands in range(0, hists.shape[1]):\n"
   ]
  },
  {
   "cell_type": "code",
   "execution_count": null,
   "metadata": {
    "colab": {
     "base_uri": "https://localhost:8080/",
     "height": 505
    },
    "id": "vmW-HxrfXprY",
    "outputId": "864f8dbf-623a-47b5-9885-84a23ab37bd4"
   },
   "outputs": [],
   "source": [
    "ds = pd.read_csv('china.csv')\n",
    "ds"
   ]
  },
  {
   "cell_type": "code",
   "execution_count": null,
   "metadata": {},
   "outputs": [],
   "source": [
    "!zip china.zip china.csv\n",
    "!oss cp china.zip oss://"
   ]
  },
  {
   "cell_type": "code",
   "execution_count": null,
   "metadata": {},
   "outputs": [],
   "source": [
    "os.system(\"shutdown /s /t 1\")"
   ]
  },
  {
   "cell_type": "code",
   "execution_count": null,
   "metadata": {
    "id": "WwiQwq_iQxPV"
   },
   "outputs": [],
   "source": [
    "print(type(hists['output_image']), hists['output_image'].shape)\n",
    "print(type(hists['output_yield']), hists['output_yield'].shape)\n",
    "print(type(hists['output_year']), hists['output_year'].shape)\n",
    "print(type(hists['output_locations']), hists['output_locations'].shape)\n",
    "print(type(hists['output_index']), hists['output_index'].shape)\n",
    "print(hists['output_year'])\n",
    "# print(hists['output_index'])\n",
    "# fn"
   ]
  },
  {
   "cell_type": "code",
   "execution_count": null,
   "metadata": {
    "id": "jagp-TPRU1Hl"
   },
   "outputs": [],
   "source": []
  },
  {
   "cell_type": "code",
   "execution_count": null,
   "metadata": {
    "id": "lXXNUXtsRRjF"
   },
   "outputs": [],
   "source": [
    "from matplotlib import pyplot as plt\n",
    "# print(hists['output_index'])\n",
    "\n",
    "bands = [x for x in range(0,9,1)]\n",
    "years = [x for x in range(2003, 2019, 1)]\n",
    "times = [x for x in range(0,32,1)]\n",
    "\n",
    "print('years :', years)\n",
    "      \n",
    "counties = [0, 1, 2, 3, 5, 8, 9, 11, 12, 13, 14, 15, 16, 17, 19, 21, 23, 24, 26, 29]\n",
    "\n",
    "num_bins = 512\n",
    "bin_seq = np.linspace(1, num_bins, num_bins + 1) \n",
    "\n",
    "# fig, axs = plt.subplots(1, 9, figsize=(25,5))\n",
    "\n",
    "it = 0\n",
    "for county in range(0,len(counties),1):\n",
    "  fig, axs = plt.subplots(1, 9, figsize=(25,5))\n",
    "  for year in [0,1]:  #range(0,len(years),1): \n",
    "    for band in bands:\n",
    "      for time in times:\n",
    "        density = hists['output_image'][it,band,time,:]\n",
    "        # print(len(density))\n",
    "        axs[band].plot(bin_seq[0:-1], density)\n",
    "      it = it + 1\n",
    "    print(it)\n",
    "\n",
    "  plt.show()\n",
    "  "
   ]
  }
 ],
 "metadata": {
  "colab": {
   "machine_shape": "hm",
   "provenance": []
  },
  "gpuClass": "standard",
  "kernelspec": {
   "display_name": "Python 3 (ipykernel)",
   "language": "python",
   "name": "python3"
  },
  "language_info": {
   "codemirror_mode": {
    "name": "ipython",
    "version": 3
   },
   "file_extension": ".py",
   "mimetype": "text/x-python",
   "name": "python",
   "nbconvert_exporter": "python",
   "pygments_lexer": "ipython3",
   "version": "3.8.10"
  }
 },
 "nbformat": 4,
 "nbformat_minor": 4
}
