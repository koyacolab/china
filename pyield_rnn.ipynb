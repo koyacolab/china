{
 "cells": [
  {
   "cell_type": "code",
   "execution_count": 1,
   "metadata": {
    "colab": {
     "base_uri": "https://localhost:8080/"
    },
    "executionInfo": {
     "elapsed": 446,
     "status": "ok",
     "timestamp": 1665660425437,
     "user": {
      "displayName": "Koyaua Uvarov",
      "userId": "04551130653342672393"
     },
     "user_tz": -180
    },
    "id": "ZVos4heN8KGD",
    "outputId": "e73eedf4-760a-4c5c-fab3-f9440d236cfb"
   },
   "outputs": [
    {
     "name": "stdout",
     "output_type": "stream",
     "text": [
      "Tue Dec  6 22:47:14 2022       \n",
      "+-----------------------------------------------------------------------------+\n",
      "| NVIDIA-SMI 510.85.02    Driver Version: 510.85.02    CUDA Version: 11.6     |\n",
      "|-------------------------------+----------------------+----------------------+\n",
      "| GPU  Name        Persistence-M| Bus-Id        Disp.A | Volatile Uncorr. ECC |\n",
      "| Fan  Temp  Perf  Pwr:Usage/Cap|         Memory-Usage | GPU-Util  Compute M. |\n",
      "|                               |                      |               MIG M. |\n",
      "|===============================+======================+======================|\n",
      "|   0  NVIDIA RTX A4000    On   | 00000000:3D:00.0 Off |                  Off |\n",
      "| 42%   27C    P8    17W / 140W |     10MiB / 16376MiB |      0%      Default |\n",
      "|                               |                      |                  N/A |\n",
      "+-------------------------------+----------------------+----------------------+\n",
      "                                                                               \n",
      "+-----------------------------------------------------------------------------+\n",
      "| Processes:                                                                  |\n",
      "|  GPU   GI   CI        PID   Type   Process name                  GPU Memory |\n",
      "|        ID   ID                                                   Usage      |\n",
      "|=============================================================================|\n",
      "+-----------------------------------------------------------------------------+\n"
     ]
    }
   ],
   "source": [
    "gpu_info = !nvidia-smi\n",
    "gpu_info = '\\n'.join(gpu_info)\n",
    "if gpu_info.find('failed') >= 0:\n",
    "  print('Not connected to a GPU')\n",
    "else:\n",
    "  print(gpu_info)"
   ]
  },
  {
   "cell_type": "code",
   "execution_count": null,
   "metadata": {
    "colab": {
     "base_uri": "https://localhost:8080/"
    },
    "executionInfo": {
     "elapsed": 24314,
     "status": "ok",
     "timestamp": 1665660453361,
     "user": {
      "displayName": "Koyaua Uvarov",
      "userId": "04551130653342672393"
     },
     "user_tz": -180
    },
    "id": "yZu6Sw1yuJP9",
    "outputId": "b19839df-4b30-4de8-a74e-666372168155"
   },
   "outputs": [
    {
     "name": "stdout",
     "output_type": "stream",
     "text": [
      "Mounted at /content/gdrive/\n",
      "gdrive\tsample_data\n"
     ]
    }
   ],
   "source": [
    "from google.colab import drive\n",
    "drive.mount('/content/gdrive/')\n",
    "\n",
    "!ls"
   ]
  },
  {
   "cell_type": "code",
   "execution_count": 2,
   "metadata": {
    "colab": {
     "base_uri": "https://localhost:8080/"
    },
    "executionInfo": {
     "elapsed": 25260,
     "status": "ok",
     "timestamp": 1665660478619,
     "user": {
      "displayName": "Koyaua Uvarov",
      "userId": "04551130653342672393"
     },
     "user_tz": -180
    },
    "id": "MIDgYPcFu3p9",
    "outputId": "33c678a8-b6b7-4882-f0ae-1a2f90e2059a"
   },
   "outputs": [
    {
     "name": "stdout",
     "output_type": "stream",
     "text": [
      "/hy-tmp/china\n",
      "Looking in indexes: https://mirrors.aliyun.com/pypi/simple\n",
      "Requirement already satisfied: fire in /usr/local/lib/python3.8/dist-packages (0.4.0)\n",
      "Requirement already satisfied: six in /usr/local/lib/python3.8/dist-packages (from fire) (1.16.0)\n",
      "Requirement already satisfied: termcolor in /usr/local/lib/python3.8/dist-packages (from fire) (1.1.0)\n",
      "\u001b[33mWARNING: Running pip as the 'root' user can result in broken permissions and conflicting behaviour with the system package manager. It is recommended to use a virtual environment instead: https://pip.pypa.io/warnings/venv\u001b[0m\u001b[33m\n",
      "\u001b[0m\u001b[33mWARNING: You are using pip version 22.0.4; however, version 22.3.1 is available.\n",
      "You should consider upgrading via the '/usr/bin/python3.8 -m pip install --upgrade pip' command.\u001b[0m\u001b[33m\n",
      "\u001b[0mLooking in indexes: https://mirrors.aliyun.com/pypi/simple\n",
      "Requirement already satisfied: geopandas in /usr/local/lib/python3.8/dist-packages (0.12.1)\n",
      "Requirement already satisfied: pyproj>=2.6.1.post1 in /usr/local/lib/python3.8/dist-packages (from geopandas) (3.4.0)\n",
      "Requirement already satisfied: fiona>=1.8 in /usr/local/lib/python3.8/dist-packages (from geopandas) (1.8.22)\n",
      "Requirement already satisfied: shapely>=1.7 in /usr/local/lib/python3.8/dist-packages (from geopandas) (1.8.5.post1)\n",
      "Requirement already satisfied: packaging in /usr/local/lib/python3.8/dist-packages (from geopandas) (21.3)\n",
      "Requirement already satisfied: pandas>=1.0.0 in /usr/local/lib/python3.8/dist-packages (from geopandas) (1.4.3)\n",
      "Requirement already satisfied: attrs>=17 in /usr/local/lib/python3.8/dist-packages (from fiona>=1.8->geopandas) (21.4.0)\n",
      "Requirement already satisfied: cligj>=0.5 in /usr/local/lib/python3.8/dist-packages (from fiona>=1.8->geopandas) (0.7.2)\n",
      "Requirement already satisfied: click-plugins>=1.0 in /usr/local/lib/python3.8/dist-packages (from fiona>=1.8->geopandas) (1.1.1)\n",
      "Requirement already satisfied: certifi in /usr/local/lib/python3.8/dist-packages (from fiona>=1.8->geopandas) (2022.6.15)\n",
      "Requirement already satisfied: setuptools in /usr/local/lib/python3.8/dist-packages (from fiona>=1.8->geopandas) (62.1.0)\n",
      "Requirement already satisfied: six>=1.7 in /usr/local/lib/python3.8/dist-packages (from fiona>=1.8->geopandas) (1.16.0)\n",
      "Requirement already satisfied: click>=4.0 in /usr/local/lib/python3.8/dist-packages (from fiona>=1.8->geopandas) (8.1.3)\n",
      "Requirement already satisfied: munch in /usr/local/lib/python3.8/dist-packages (from fiona>=1.8->geopandas) (2.5.0)\n",
      "Requirement already satisfied: python-dateutil>=2.8.1 in /usr/local/lib/python3.8/dist-packages (from pandas>=1.0.0->geopandas) (2.8.2)\n",
      "Requirement already satisfied: pytz>=2020.1 in /usr/local/lib/python3.8/dist-packages (from pandas>=1.0.0->geopandas) (2022.1)\n",
      "Requirement already satisfied: numpy>=1.18.5 in /usr/local/lib/python3.8/dist-packages (from pandas>=1.0.0->geopandas) (1.22.3)\n",
      "Requirement already satisfied: pyparsing!=3.0.5,>=2.0.2 in /usr/local/lib/python3.8/dist-packages (from packaging->geopandas) (3.0.9)\n",
      "\u001b[33mWARNING: Running pip as the 'root' user can result in broken permissions and conflicting behaviour with the system package manager. It is recommended to use a virtual environment instead: https://pip.pypa.io/warnings/venv\u001b[0m\u001b[33m\n",
      "\u001b[0m\u001b[33mWARNING: You are using pip version 22.0.4; however, version 22.3.1 is available.\n",
      "You should consider upgrading via the '/usr/bin/python3.8 -m pip install --upgrade pip' command.\u001b[0m\u001b[33m\n",
      "\u001b[0mLooking in indexes: https://mirrors.aliyun.com/pypi/simple\n",
      "Requirement already satisfied: geojson in /usr/local/lib/python3.8/dist-packages (2.5.0)\n",
      "\u001b[33mWARNING: Running pip as the 'root' user can result in broken permissions and conflicting behaviour with the system package manager. It is recommended to use a virtual environment instead: https://pip.pypa.io/warnings/venv\u001b[0m\u001b[33m\n",
      "\u001b[0m\u001b[33mWARNING: You are using pip version 22.0.4; however, version 22.3.1 is available.\n",
      "You should consider upgrading via the '/usr/bin/python3.8 -m pip install --upgrade pip' command.\u001b[0m\u001b[33m\n",
      "\u001b[0mLooking in indexes: https://mirrors.aliyun.com/pypi/simple\n",
      "Requirement already satisfied: tqdm in /usr/local/lib/python3.8/dist-packages (4.64.1)\n",
      "\u001b[33mWARNING: Running pip as the 'root' user can result in broken permissions and conflicting behaviour with the system package manager. It is recommended to use a virtual environment instead: https://pip.pypa.io/warnings/venv\u001b[0m\u001b[33m\n",
      "\u001b[0m\u001b[33mWARNING: You are using pip version 22.0.4; however, version 22.3.1 is available.\n",
      "You should consider upgrading via the '/usr/bin/python3.8 -m pip install --upgrade pip' command.\u001b[0m\u001b[33m\n",
      "\u001b[0mLooking in indexes: https://mirrors.aliyun.com/pypi/simple\n",
      "Requirement already satisfied: torchvision in /usr/local/lib/python3.8/dist-packages (0.13.0+cu113)\n",
      "Requirement already satisfied: numpy in /usr/local/lib/python3.8/dist-packages (from torchvision) (1.22.3)\n",
      "Requirement already satisfied: pillow!=8.3.*,>=5.3.0 in /usr/local/lib/python3.8/dist-packages (from torchvision) (9.2.0)\n",
      "Requirement already satisfied: torch==1.12.0 in /usr/local/lib/python3.8/dist-packages (from torchvision) (1.12.0+cu113)\n",
      "Requirement already satisfied: requests in /usr/local/lib/python3.8/dist-packages (from torchvision) (2.28.1)\n",
      "Requirement already satisfied: typing-extensions in /usr/local/lib/python3.8/dist-packages (from torchvision) (4.3.0)\n",
      "Requirement already satisfied: idna<4,>=2.5 in /usr/local/lib/python3.8/dist-packages (from requests->torchvision) (3.3)\n",
      "Requirement already satisfied: urllib3<1.27,>=1.21.1 in /usr/local/lib/python3.8/dist-packages (from requests->torchvision) (1.26.10)\n",
      "Requirement already satisfied: certifi>=2017.4.17 in /usr/local/lib/python3.8/dist-packages (from requests->torchvision) (2022.6.15)\n",
      "Requirement already satisfied: charset-normalizer<3,>=2 in /usr/local/lib/python3.8/dist-packages (from requests->torchvision) (2.1.0)\n",
      "\u001b[33mWARNING: Running pip as the 'root' user can result in broken permissions and conflicting behaviour with the system package manager. It is recommended to use a virtual environment instead: https://pip.pypa.io/warnings/venv\u001b[0m\u001b[33m\n",
      "\u001b[0m\u001b[33mWARNING: You are using pip version 22.0.4; however, version 22.3.1 is available.\n",
      "You should consider upgrading via the '/usr/bin/python3.8 -m pip install --upgrade pip' command.\u001b[0m\u001b[33m\n",
      "\u001b[0m"
     ]
    }
   ],
   "source": [
    "import os\n",
    "\n",
    "data_dir = '/content/gdrive/My Drive/AYield/China/HISTOGRAM'\n",
    "data_dir = '/hy-tmp'\n",
    "\n",
    "code_dir = os.path.join('/content/gdrive/My Drive/GitHub', 'china')\n",
    "code_dir = os.path.join('/hy-tmp', 'china')\n",
    "os.chdir(code_dir)\n",
    "!pwd\n",
    "# !ls\n",
    "# !pip3 install --upgrade IPython\n",
    "!pip install fire\n",
    "!pip install geopandas\n",
    "!pip install geojson\n",
    "!pip install tqdm\n",
    "\n",
    "# !pip install cloud-tpu-client==0.10 torch==1.12.0 https://storage.googleapis.com/tpu-pytorch/wheels/colab/torch_xla-1.12-cp37-cp37m-linux_x86_64.whl \n",
    "# !pip install pprint\n",
    "\n",
    "from tqdm import tqdm\n",
    "import geojson\n",
    "\n",
    "from glob import glob\n",
    "\n",
    "!pip install torchvision\n",
    "# !pip install torch torchvision\n",
    "# sudo apt-get update & apt-get upgrade\n",
    "\n",
    "# !pip install --upgrade google-api-python-client\n",
    "# !gcloud init "
   ]
  },
  {
   "cell_type": "code",
   "execution_count": 3,
   "metadata": {
    "colab": {
     "base_uri": "https://localhost:8080/"
    },
    "executionInfo": {
     "elapsed": 1565,
     "status": "ok",
     "timestamp": 1665660480176,
     "user": {
      "displayName": "Koyaua Uvarov",
      "userId": "04551130653342672393"
     },
     "user_tz": -180
    },
    "id": "kD9yzda9w0zV",
    "outputId": "cde8ebab-5e7f-4783-d183-98d6c13bfaf9"
   },
   "outputs": [
    {
     "name": "stdout",
     "output_type": "stream",
     "text": [
      "['/hy-tmp/corn_histogram_all_full.npz', '/hy-tmp/corn_histogram_all_augmented_.npz', '/hy-tmp/corn_histogram_all_augmented_14gb.npz', '/hy-tmp/corn_histogram_all_augmented.npz']\n",
      "/hy-tmp/china\n",
      "AChina_Predict_visual.ipynb\t    pycropparser.ipynb\n",
      "ChinaTransformer.ipynb\t\t    pyield_engineer.ipynb\n",
      "CropAreaAugmentation.ipynb\t    pyield_rnn2.ipynb\n",
      "CropArea_calc.ipynb\t\t    pyield_rnn3.ipynb\n",
      "cyp\t\t\t\t    pyield_rnn4.ipynb\n",
      "feature_Generator.ipynb\t\t    pyield_rnn.ipynb\n",
      "Hist_analize.ipynb\t\t    pyviewer2.ipynb\n",
      "Histo_csv_prl_to_Transformer.ipynb  pyviewer.ipynb\n",
      "Histo_csv_to_Transformer.ipynb\t    rename_county.ipynb\n",
      "images_min_max.ipynb\t\t    run.py\n",
      "MODIS_Downloader.ipynb\t\t    task_file_generate.ipynb\n",
      "MODIS_Processing.ipynb\t\t    TensorBoard.ipynb\n",
      "parse_county.ipynb\t\t    Yield_csv_clearing.ipynb\n"
     ]
    }
   ],
   "source": [
    "datasets = glob(os.path.join(data_dir, '*.npz'))\n",
    "print(datasets)\n",
    "\n",
    "# code_dir = os.path.join(home_dir, 'pycrop-yield-prediction')\n",
    "# os.chdir(code_dir)\n",
    "!pwd\n",
    "!ls"
   ]
  },
  {
   "cell_type": "code",
   "execution_count": null,
   "metadata": {
    "colab": {
     "base_uri": "https://localhost:8080/",
     "output_embedded_package_id": "1lRx4nMwdwE2-5ZLeAz0f5givyi5jm93l"
    },
    "id": "wuRn4MqKNOIt",
    "outputId": "f28be3cc-b11f-4c0b-ce9a-86176d112836"
   },
   "outputs": [
    {
     "name": "stdout",
     "output_type": "stream",
     "text": [
      "/hy-tmp/china\n",
      "Using cuda\n",
      "run dataset :  /hy-tmp/corn_histogram_all_augmented.npz /hy-tmp/corn_histogram_all_full.npz\n",
      "run : pred_years: 2008, batch_size: 512, num_runs: 3\n",
      "Training to predict on 2008, Run number 1, Time 32\n",
      "prepare :  [2003. 2003. 2003. ... 2018. 2018. 2018.] [2008. 2008. 2008. 2008. 2008. 2008. 2008. 2008. 2008. 2008. 2008. 2008.\n",
      " 2008. 2008. 2008. 2008. 2008. 2008. 2008. 2008. 2008. 2008. 2008. 2008.\n",
      " 2008. 2008. 2008. 2008. 2008. 2008. 2008. 2008. 2008. 2008. 2008. 2008.\n",
      " 2008. 2008. 2008. 2008. 2008. 2008. 2008. 2008. 2008. 2008. 2008. 2008.\n",
      " 2008. 2008. 2008. 2008. 2008. 2008. 2008. 2008. 2008. 2008. 2008. 2008.\n",
      " 2008. 2008. 2008. 2008. 2008. 2008. 2008. 2008. 2008. 2008. 2008. 2008.\n",
      " 2008. 2008. 2008. 2008. 2008. 2008. 2008. 2008. 2008. 2008. 2008. 2008.\n",
      " 2008. 2008. 2008. 2008. 2008. 2008. 2008. 2008. 2008. 2008. 2008. 2008.\n",
      " 2008. 2008. 2008. 2008. 2008. 2008. 2008. 2008. 2008. 2008. 2008. 2008.\n",
      " 2008. 2008. 2008. 2008. 2008. 2008. 2008. 2008. 2008. 2008. 2008. 2008.\n",
      " 2008. 2008. 2008. 2008. 2008. 2008. 2008. 2008. 2008. 2008. 2008. 2008.\n",
      " 2008. 2008. 2008. 2008. 2008. 2008. 2008. 2008. 2008. 2008. 2008. 2008.\n",
      " 2008. 2008. 2008. 2008. 2008. 2008. 2008. 2008. 2008. 2008. 2008. 2008.\n",
      " 2008. 2008. 2008. 2008. 2008. 2008. 2008. 2008. 2008. 2008. 2008. 2008.\n",
      " 2008. 2008. 2008. 2008. 2008. 2008. 2008. 2008. 2008. 2008. 2008. 2008.\n",
      " 2008. 2008. 2008. 2008. 2008. 2008. 2008. 2008. 2008. 2008. 2008. 2008.\n",
      " 2008. 2008. 2008. 2008. 2008. 2008. 2008. 2008. 2008. 2008. 2008. 2008.\n",
      " 2008. 2008. 2008. 2008. 2008. 2008. 2008. 2008. 2008. 2008. 2008. 2008.\n",
      " 2008. 2008. 2008. 2008. 2008. 2008. 2008. 2008. 2008. 2008. 2008. 2008.\n",
      " 2008. 2008. 2008. 2008. 2008. 2008. 2008. 2008. 2008. 2008. 2008. 2008.\n",
      " 2008. 2008. 2008. 2008. 2008. 2008. 2008. 2008. 2008. 2008. 2008. 2008.\n",
      " 2008. 2008. 2008. 2008. 2008. 2008. 2008. 2008. 2008. 2008. 2008. 2008.\n",
      " 2008. 2008. 2008. 2008. 2008. 2008. 2008. 2008. 2008. 2008. 2008. 2008.\n",
      " 2008. 2008. 2008. 2008.]\n",
      "Train set size: 4902, Test set size: 280\n",
      "run_1_year :  32 torch.Size([4902, 9, 32, 512])\n",
      "After split, training on 4412 examples, validating on 490 examples\n",
      "Training for 261100 epochs\n",
      "  1%|▎                                | 2000/261100 [46:28<101:05:31,  1.40s/it]('Step:18009, Epoch:2000, LR:1.0000000000000002e-07, ES_train:0.143, '\n",
      " 'ES_val:0.085')\n",
      "Early Stopping in epoch: 2000\n",
      "  1%|▎                                | 2000/261100 [46:29<100:23:17,  1.39s/it]\n",
      "prepare :  [2003 2004 2005 2006 2007 2009 2010 2011 2012 2013 2014 2015 2016 2017\n",
      " 2018 2003 2004 2005 2006 2007 2009 2010 2011 2012 2013 2014 2015 2016\n",
      " 2017 2018 2003 2004 2005 2006 2007 2009 2010 2011 2012 2013 2014 2015\n",
      " 2016 2017 2018 2003 2004 2005 2006 2007 2009 2010 2011 2012 2013 2014\n",
      " 2015 2016 2017 2018 2003 2004 2005 2006 2007 2009 2010 2011 2012 2013\n",
      " 2014 2015 2016 2017 2018 2003 2004 2005 2006 2007 2009 2010 2011 2012\n",
      " 2013 2014 2015 2016 2017 2018 2003 2004 2005 2006 2007 2009 2010 2011\n",
      " 2012 2013 2014 2015 2016 2017 2018 2003 2004 2005 2006 2007 2009 2010\n",
      " 2011 2012 2013 2014 2015 2016 2017 2018 2003 2004 2005 2006 2007 2009\n",
      " 2010 2011 2012 2013 2014 2015 2016 2017 2018 2003 2004 2005 2006 2007\n",
      " 2009 2010 2011 2012 2013 2014 2015 2016 2017 2018 2003 2004 2005 2006\n",
      " 2007 2009 2010 2011 2012 2013 2014 2015 2016 2017 2018 2003 2004 2005\n",
      " 2006 2007 2009 2010 2011 2012 2013 2014 2015 2016 2017 2018 2003 2004\n",
      " 2005 2006 2007 2009 2010 2011 2012 2013 2014 2015 2016 2017 2018 2003\n",
      " 2004 2005 2006 2007 2009 2010 2011 2012 2013 2014 2015 2016 2017 2018\n",
      " 2003 2004 2005 2006 2007 2009 2010 2011 2012 2013 2014 2015 2016 2017\n",
      " 2018 2003 2004 2005 2006 2007 2009 2010 2011 2012 2013 2014 2015 2016\n",
      " 2017 2018 2003 2004 2005 2006 2007 2009 2010 2011 2012 2013 2014 2015\n",
      " 2016 2017 2018 2003 2004 2005 2006 2007 2009 2010 2011 2012 2013 2014\n",
      " 2015 2016 2017 2018 2003 2004 2005 2006 2007 2009 2010 2011 2012 2013\n",
      " 2014 2015 2016 2017 2018 2003 2004 2005 2006 2007 2009 2010 2011 2012\n",
      " 2013 2014 2015 2016 2017 2018] [2008 2008 2008 2008 2008 2008 2008 2008 2008 2008 2008 2008 2008 2008\n",
      " 2008 2008 2008 2008 2008 2008]\n",
      "Train set size: 300, Test set size: 20\n",
      "100%|█████████████████████████████████████████████| 1/1 [00:00<00:00, 58.87it/s]\n",
      "100%|████████████████████████████████████████████| 1/1 [00:00<00:00, 118.23it/s]\n",
      "Running Gaussian Process!\n",
      "analyze_results() - Calculate ME and RMSE\n",
      "Without GP: RMSE: 0.045008480896353655, ME: -0.00994357317686081, MAPE: -0.029596631164103705\n",
      "With GP: RMSE: 0.039522379194368414, ME: -0.006307448656202627, MAPE:-0.019378361875309176\n",
      "--------------------------------------\n",
      "Training to predict on 2008, Run number 2, Time 32\n",
      "prepare :  [2003. 2003. 2003. ... 2018. 2018. 2018.] [2008. 2008. 2008. 2008. 2008. 2008. 2008. 2008. 2008. 2008. 2008. 2008.\n",
      " 2008. 2008. 2008. 2008. 2008. 2008. 2008. 2008. 2008. 2008. 2008. 2008.\n",
      " 2008. 2008. 2008. 2008. 2008. 2008. 2008. 2008. 2008. 2008. 2008. 2008.\n",
      " 2008. 2008. 2008. 2008. 2008. 2008. 2008. 2008. 2008. 2008. 2008. 2008.\n",
      " 2008. 2008. 2008. 2008. 2008. 2008. 2008. 2008. 2008. 2008. 2008. 2008.\n",
      " 2008. 2008. 2008. 2008. 2008. 2008. 2008. 2008. 2008. 2008. 2008. 2008.\n",
      " 2008. 2008. 2008. 2008. 2008. 2008. 2008. 2008. 2008. 2008. 2008. 2008.\n",
      " 2008. 2008. 2008. 2008. 2008. 2008. 2008. 2008. 2008. 2008. 2008. 2008.\n",
      " 2008. 2008. 2008. 2008. 2008. 2008. 2008. 2008. 2008. 2008. 2008. 2008.\n",
      " 2008. 2008. 2008. 2008. 2008. 2008. 2008. 2008. 2008. 2008. 2008. 2008.\n",
      " 2008. 2008. 2008. 2008. 2008. 2008. 2008. 2008. 2008. 2008. 2008. 2008.\n",
      " 2008. 2008. 2008. 2008. 2008. 2008. 2008. 2008. 2008. 2008. 2008. 2008.\n",
      " 2008. 2008. 2008. 2008. 2008. 2008. 2008. 2008. 2008. 2008. 2008. 2008.\n",
      " 2008. 2008. 2008. 2008. 2008. 2008. 2008. 2008. 2008. 2008. 2008. 2008.\n",
      " 2008. 2008. 2008. 2008. 2008. 2008. 2008. 2008. 2008. 2008. 2008. 2008.\n",
      " 2008. 2008. 2008. 2008. 2008. 2008. 2008. 2008. 2008. 2008. 2008. 2008.\n",
      " 2008. 2008. 2008. 2008. 2008. 2008. 2008. 2008. 2008. 2008. 2008. 2008.\n",
      " 2008. 2008. 2008. 2008. 2008. 2008. 2008. 2008. 2008. 2008. 2008. 2008.\n",
      " 2008. 2008. 2008. 2008. 2008. 2008. 2008. 2008. 2008. 2008. 2008. 2008.\n",
      " 2008. 2008. 2008. 2008. 2008. 2008. 2008. 2008. 2008. 2008. 2008. 2008.\n",
      " 2008. 2008. 2008. 2008. 2008. 2008. 2008. 2008. 2008. 2008. 2008. 2008.\n",
      " 2008. 2008. 2008. 2008. 2008. 2008. 2008. 2008. 2008. 2008. 2008. 2008.\n",
      " 2008. 2008. 2008. 2008. 2008. 2008. 2008. 2008. 2008. 2008. 2008. 2008.\n",
      " 2008. 2008. 2008. 2008.]\n",
      "Train set size: 4902, Test set size: 280\n",
      "run_1_year :  32 torch.Size([4902, 9, 32, 512])\n",
      "After split, training on 4412 examples, validating on 490 examples\n",
      "Training for 261100 epochs\n",
      "  1%|▎                                | 2000/261100 [46:36<100:40:25,  1.40s/it]('Step:18009, Epoch:2000, LR:1.0000000000000002e-07, ES_train:0.143, '\n",
      " 'ES_val:0.105')\n",
      "Early Stopping in epoch: 2000\n",
      "  1%|▎                                | 2000/261100 [46:37<100:40:28,  1.40s/it]\n",
      "prepare :  [2003 2004 2005 2006 2007 2009 2010 2011 2012 2013 2014 2015 2016 2017\n",
      " 2018 2003 2004 2005 2006 2007 2009 2010 2011 2012 2013 2014 2015 2016\n",
      " 2017 2018 2003 2004 2005 2006 2007 2009 2010 2011 2012 2013 2014 2015\n",
      " 2016 2017 2018 2003 2004 2005 2006 2007 2009 2010 2011 2012 2013 2014\n",
      " 2015 2016 2017 2018 2003 2004 2005 2006 2007 2009 2010 2011 2012 2013\n",
      " 2014 2015 2016 2017 2018 2003 2004 2005 2006 2007 2009 2010 2011 2012\n",
      " 2013 2014 2015 2016 2017 2018 2003 2004 2005 2006 2007 2009 2010 2011\n",
      " 2012 2013 2014 2015 2016 2017 2018 2003 2004 2005 2006 2007 2009 2010\n",
      " 2011 2012 2013 2014 2015 2016 2017 2018 2003 2004 2005 2006 2007 2009\n",
      " 2010 2011 2012 2013 2014 2015 2016 2017 2018 2003 2004 2005 2006 2007\n",
      " 2009 2010 2011 2012 2013 2014 2015 2016 2017 2018 2003 2004 2005 2006\n",
      " 2007 2009 2010 2011 2012 2013 2014 2015 2016 2017 2018 2003 2004 2005\n",
      " 2006 2007 2009 2010 2011 2012 2013 2014 2015 2016 2017 2018 2003 2004\n",
      " 2005 2006 2007 2009 2010 2011 2012 2013 2014 2015 2016 2017 2018 2003\n",
      " 2004 2005 2006 2007 2009 2010 2011 2012 2013 2014 2015 2016 2017 2018\n",
      " 2003 2004 2005 2006 2007 2009 2010 2011 2012 2013 2014 2015 2016 2017\n",
      " 2018 2003 2004 2005 2006 2007 2009 2010 2011 2012 2013 2014 2015 2016\n",
      " 2017 2018 2003 2004 2005 2006 2007 2009 2010 2011 2012 2013 2014 2015\n",
      " 2016 2017 2018 2003 2004 2005 2006 2007 2009 2010 2011 2012 2013 2014\n",
      " 2015 2016 2017 2018 2003 2004 2005 2006 2007 2009 2010 2011 2012 2013\n",
      " 2014 2015 2016 2017 2018 2003 2004 2005 2006 2007 2009 2010 2011 2012\n",
      " 2013 2014 2015 2016 2017 2018] [2008 2008 2008 2008 2008 2008 2008 2008 2008 2008 2008 2008 2008 2008\n",
      " 2008 2008 2008 2008 2008 2008]\n",
      "Train set size: 300, Test set size: 20\n",
      "100%|█████████████████████████████████████████████| 1/1 [00:00<00:00, 60.02it/s]\n",
      "100%|████████████████████████████████████████████| 1/1 [00:00<00:00, 117.40it/s]\n",
      "Running Gaussian Process!\n",
      "analyze_results() - Calculate ME and RMSE\n",
      "Without GP: RMSE: 0.0469128056456677, ME: -0.0075804412364959715, MAPE: -0.026030306369085793\n",
      "With GP: RMSE: 0.04168195231576784, ME: -0.004250198386255894, MAPE:-0.016378123189264442\n",
      "--------------------------------------\n",
      "Training to predict on 2008, Run number 3, Time 32\n",
      "prepare :  [2003. 2003. 2003. ... 2018. 2018. 2018.] [2008. 2008. 2008. 2008. 2008. 2008. 2008. 2008. 2008. 2008. 2008. 2008.\n",
      " 2008. 2008. 2008. 2008. 2008. 2008. 2008. 2008. 2008. 2008. 2008. 2008.\n",
      " 2008. 2008. 2008. 2008. 2008. 2008. 2008. 2008. 2008. 2008. 2008. 2008.\n",
      " 2008. 2008. 2008. 2008. 2008. 2008. 2008. 2008. 2008. 2008. 2008. 2008.\n",
      " 2008. 2008. 2008. 2008. 2008. 2008. 2008. 2008. 2008. 2008. 2008. 2008.\n",
      " 2008. 2008. 2008. 2008. 2008. 2008. 2008. 2008. 2008. 2008. 2008. 2008.\n",
      " 2008. 2008. 2008. 2008. 2008. 2008. 2008. 2008. 2008. 2008. 2008. 2008.\n",
      " 2008. 2008. 2008. 2008. 2008. 2008. 2008. 2008. 2008. 2008. 2008. 2008.\n",
      " 2008. 2008. 2008. 2008. 2008. 2008. 2008. 2008. 2008. 2008. 2008. 2008.\n",
      " 2008. 2008. 2008. 2008. 2008. 2008. 2008. 2008. 2008. 2008. 2008. 2008.\n",
      " 2008. 2008. 2008. 2008. 2008. 2008. 2008. 2008. 2008. 2008. 2008. 2008.\n",
      " 2008. 2008. 2008. 2008. 2008. 2008. 2008. 2008. 2008. 2008. 2008. 2008.\n",
      " 2008. 2008. 2008. 2008. 2008. 2008. 2008. 2008. 2008. 2008. 2008. 2008.\n",
      " 2008. 2008. 2008. 2008. 2008. 2008. 2008. 2008. 2008. 2008. 2008. 2008.\n",
      " 2008. 2008. 2008. 2008. 2008. 2008. 2008. 2008. 2008. 2008. 2008. 2008.\n",
      " 2008. 2008. 2008. 2008. 2008. 2008. 2008. 2008. 2008. 2008. 2008. 2008.\n",
      " 2008. 2008. 2008. 2008. 2008. 2008. 2008. 2008. 2008. 2008. 2008. 2008.\n",
      " 2008. 2008. 2008. 2008. 2008. 2008. 2008. 2008. 2008. 2008. 2008. 2008.\n",
      " 2008. 2008. 2008. 2008. 2008. 2008. 2008. 2008. 2008. 2008. 2008. 2008.\n",
      " 2008. 2008. 2008. 2008. 2008. 2008. 2008. 2008. 2008. 2008. 2008. 2008.\n",
      " 2008. 2008. 2008. 2008. 2008. 2008. 2008. 2008. 2008. 2008. 2008. 2008.\n",
      " 2008. 2008. 2008. 2008. 2008. 2008. 2008. 2008. 2008. 2008. 2008. 2008.\n",
      " 2008. 2008. 2008. 2008. 2008. 2008. 2008. 2008. 2008. 2008. 2008. 2008.\n",
      " 2008. 2008. 2008. 2008.]\n",
      "Train set size: 4902, Test set size: 280\n",
      "run_1_year :  32 torch.Size([4902, 9, 32, 512])\n",
      "After split, training on 4412 examples, validating on 490 examples\n",
      "Training for 261100 epochs\n",
      "  0%|                                  | 644/261100 [14:59<102:42:49,  1.42s/it]"
     ]
    }
   ],
   "source": [
    "# fin     \n",
    "!pwd\n",
    "# !python run.py process\n",
    "# !python run.py train_rnn --pred_years=2008 --num_runs=6 --batch_size=16 --TB_writer='hist_aug' --train_dataset='/content/gdrive/My Drive/AYield/China/HISTOGRAM/histogram_all_augmented.npz' --valid_dataset='/content/gdrive/My Drive/AYield/China/HISTOGRAM/histogram_all_full.npz' --savedir='/content/gdrive/My Drive/AYield/China/RESULTS' \n",
    "!python run.py train_rnn --pred_years=2008 --num_runs=3 --batch_size=512 --train_dataset='/hy-tmp/corn_histogram_all_augmented.npz' --valid_dataset='/hy-tmp/corn_histogram_all_full.npz' --savedir='/hy-tmp' \n"
   ]
  },
  {
   "cell_type": "code",
   "execution_count": null,
   "metadata": {},
   "outputs": [],
   "source": [
    "os.chdir(data_dir)\n",
    "!zip -r rnn_2008.zip rnn/\n",
    "!oss cp rnn_2008.zip oss://"
   ]
  },
  {
   "cell_type": "code",
   "execution_count": null,
   "metadata": {},
   "outputs": [],
   "source": [
    "os.system(\"shutdown /s /t 1\")"
   ]
  }
 ],
 "metadata": {
  "accelerator": "GPU",
  "colab": {
   "authorship_tag": "ABX9TyOu21Ym9j9VMHXk1dojSBwF",
   "background_execution": "on",
   "collapsed_sections": [],
   "machine_shape": "hm",
   "provenance": [
    {
     "file_id": "1t1H7mNw2EUvyoknV1dcQGIxl63VhGaU4",
     "timestamp": 1659198338233
    },
    {
     "file_id": "1XPnjJDaHGyftnIKcrAWUwCHoyzn-Wis_",
     "timestamp": 1659111688705
    },
    {
     "file_id": "1vg2PwXg0C_e4wkea-p6IPa_TAvRA9adE",
     "timestamp": 1659096253434
    }
   ]
  },
  "gpuClass": "standard",
  "kernelspec": {
   "display_name": "Python 3 (ipykernel)",
   "language": "python",
   "name": "python3"
  },
  "language_info": {
   "codemirror_mode": {
    "name": "ipython",
    "version": 3
   },
   "file_extension": ".py",
   "mimetype": "text/x-python",
   "name": "python",
   "nbconvert_exporter": "python",
   "pygments_lexer": "ipython3",
   "version": "3.8.10"
  }
 },
 "nbformat": 4,
 "nbformat_minor": 4
}
