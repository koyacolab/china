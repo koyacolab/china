{
 "cells": [
  {
   "cell_type": "code",
   "execution_count": 1,
   "metadata": {
    "colab": {
     "base_uri": "https://localhost:8080/"
    },
    "executionInfo": {
     "elapsed": 446,
     "status": "ok",
     "timestamp": 1665660425437,
     "user": {
      "displayName": "Koyaua Uvarov",
      "userId": "04551130653342672393"
     },
     "user_tz": -180
    },
    "id": "ZVos4heN8KGD",
    "outputId": "e73eedf4-760a-4c5c-fab3-f9440d236cfb"
   },
   "outputs": [
    {
     "name": "stdout",
     "output_type": "stream",
     "text": [
      "Thu Nov 10 23:25:14 2022       \n",
      "+-----------------------------------------------------------------------------+\n",
      "| NVIDIA-SMI 510.47.03    Driver Version: 510.47.03    CUDA Version: 11.6     |\n",
      "|-------------------------------+----------------------+----------------------+\n",
      "| GPU  Name        Persistence-M| Bus-Id        Disp.A | Volatile Uncorr. ECC |\n",
      "| Fan  Temp  Perf  Pwr:Usage/Cap|         Memory-Usage | GPU-Util  Compute M. |\n",
      "|                               |                      |               MIG M. |\n",
      "|===============================+======================+======================|\n",
      "|   0  Tesla V100-SXM2...  On   | 00000000:B4:00.0 Off |                    0 |\n",
      "| N/A   37C    P0    43W / 300W |      0MiB / 16384MiB |      0%      Default |\n",
      "|                               |                      |                  N/A |\n",
      "+-------------------------------+----------------------+----------------------+\n",
      "                                                                               \n",
      "+-----------------------------------------------------------------------------+\n",
      "| Processes:                                                                  |\n",
      "|  GPU   GI   CI        PID   Type   Process name                  GPU Memory |\n",
      "|        ID   ID                                                   Usage      |\n",
      "|=============================================================================|\n",
      "|  No running processes found                                                 |\n",
      "+-----------------------------------------------------------------------------+\n"
     ]
    }
   ],
   "source": [
    "gpu_info = !nvidia-smi\n",
    "gpu_info = '\\n'.join(gpu_info)\n",
    "if gpu_info.find('failed') >= 0:\n",
    "  print('Not connected to a GPU')\n",
    "else:\n",
    "  print(gpu_info)"
   ]
  },
  {
   "cell_type": "code",
   "execution_count": null,
   "metadata": {
    "colab": {
     "base_uri": "https://localhost:8080/"
    },
    "executionInfo": {
     "elapsed": 24314,
     "status": "ok",
     "timestamp": 1665660453361,
     "user": {
      "displayName": "Koyaua Uvarov",
      "userId": "04551130653342672393"
     },
     "user_tz": -180
    },
    "id": "yZu6Sw1yuJP9",
    "outputId": "b19839df-4b30-4de8-a74e-666372168155"
   },
   "outputs": [
    {
     "name": "stdout",
     "output_type": "stream",
     "text": [
      "Mounted at /content/gdrive/\n",
      "gdrive\tsample_data\n"
     ]
    }
   ],
   "source": [
    "from google.colab import drive\n",
    "drive.mount('/content/gdrive/')\n",
    "\n",
    "!ls"
   ]
  },
  {
   "cell_type": "code",
   "execution_count": 1,
   "metadata": {
    "colab": {
     "base_uri": "https://localhost:8080/"
    },
    "executionInfo": {
     "elapsed": 25260,
     "status": "ok",
     "timestamp": 1665660478619,
     "user": {
      "displayName": "Koyaua Uvarov",
      "userId": "04551130653342672393"
     },
     "user_tz": -180
    },
    "id": "MIDgYPcFu3p9",
    "outputId": "33c678a8-b6b7-4882-f0ae-1a2f90e2059a"
   },
   "outputs": [
    {
     "name": "stdout",
     "output_type": "stream",
     "text": [
      "/hy-tmp/china\n",
      "Looking in indexes: https://mirrors.aliyun.com/pypi/simple\n",
      "Collecting fire\n",
      "  Downloading https://mirrors.aliyun.com/pypi/packages/11/07/a119a1aa04d37bc819940d95ed7e135a7dcca1c098123a3764a6dcace9e7/fire-0.4.0.tar.gz (87 kB)\n",
      "\u001b[2K     \u001b[90m━━━━━━━━━━━━━━━━━━━━━━━━━━━━━━━━━━━━━━━━\u001b[0m \u001b[32m87.7/87.7 KB\u001b[0m \u001b[31m11.5 MB/s\u001b[0m eta \u001b[36m0:00:00\u001b[0m\n",
      "\u001b[?25h  Preparing metadata (setup.py) ... \u001b[?25ldone\n",
      "\u001b[?25hRequirement already satisfied: six in /usr/local/lib/python3.8/dist-packages (from fire) (1.16.0)\n",
      "Requirement already satisfied: termcolor in /usr/local/lib/python3.8/dist-packages (from fire) (1.1.0)\n",
      "Building wheels for collected packages: fire\n",
      "  Building wheel for fire (setup.py) ... \u001b[?25ldone\n",
      "\u001b[?25h  Created wheel for fire: filename=fire-0.4.0-py2.py3-none-any.whl size=115942 sha256=68bef937eb2dac422fbaaa58d27b0b56a1af65720fa59bda8a35e3be65d886cb\n",
      "  Stored in directory: /root/.cache/pip/wheels/60/e9/76/6f1e0753c44030cb6d330e5c3d4c1217d26c81204a39ec5601\n",
      "Successfully built fire\n",
      "Installing collected packages: fire\n",
      "Successfully installed fire-0.4.0\n",
      "\u001b[33mWARNING: Running pip as the 'root' user can result in broken permissions and conflicting behaviour with the system package manager. It is recommended to use a virtual environment instead: https://pip.pypa.io/warnings/venv\u001b[0m\u001b[33m\n",
      "\u001b[0m\u001b[33mWARNING: You are using pip version 22.0.4; however, version 22.3.1 is available.\n",
      "You should consider upgrading via the '/usr/bin/python3.8 -m pip install --upgrade pip' command.\u001b[0m\u001b[33m\n",
      "\u001b[0mLooking in indexes: https://mirrors.aliyun.com/pypi/simple\n",
      "Collecting geopandas\n",
      "  Downloading https://mirrors.aliyun.com/pypi/packages/8f/4c/19856b6aff64a832f2831d5655fca7089f4cf20649c7acf756ffdaf003f5/geopandas-0.12.1-py3-none-any.whl (1.1 MB)\n",
      "\u001b[2K     \u001b[90m━━━━━━━━━━━━━━━━━━━━━━━━━━━━━━━━━━━━━━━━\u001b[0m \u001b[32m1.1/1.1 MB\u001b[0m \u001b[31m32.3 MB/s\u001b[0m eta \u001b[36m0:00:00\u001b[0m\n",
      "\u001b[?25hCollecting fiona>=1.8\n",
      "  Downloading https://mirrors.aliyun.com/pypi/packages/e2/f2/8ffc940f6dce55563bd2752d2b2a50ab4eb136c215f32597e59bcd19c7f1/Fiona-1.8.22-cp38-cp38-manylinux_2_17_x86_64.manylinux2014_x86_64.whl (16.6 MB)\n",
      "\u001b[2K     \u001b[90m━━━━━━━━━━━━━━━━━━━━━━━━━━━━━━━━━━━━━━━━\u001b[0m \u001b[32m16.6/16.6 MB\u001b[0m \u001b[31m16.7 MB/s\u001b[0m eta \u001b[36m0:00:00\u001b[0m00:01\u001b[0m00:01\u001b[0m\n",
      "\u001b[?25hRequirement already satisfied: pandas>=1.0.0 in /usr/local/lib/python3.8/dist-packages (from geopandas) (1.4.3)\n",
      "Collecting pyproj>=2.6.1.post1\n",
      "  Downloading https://mirrors.aliyun.com/pypi/packages/81/37/ead210d333271d4f5e857646362e05f2e10ad7c05bb933b3020f52cdf38a/pyproj-3.4.0-cp38-cp38-manylinux_2_17_x86_64.manylinux2014_x86_64.whl (7.8 MB)\n",
      "\u001b[2K     \u001b[90m━━━━━━━━━━━━━━━━━━━━━━━━━━━━━━━━━━━━━━━━\u001b[0m \u001b[32m7.8/7.8 MB\u001b[0m \u001b[31m24.0 MB/s\u001b[0m eta \u001b[36m0:00:00\u001b[0m00:01\u001b[0m00:01\u001b[0m\n",
      "\u001b[?25hCollecting shapely>=1.7\n",
      "  Downloading https://mirrors.aliyun.com/pypi/packages/17/70/c11106764bf0fdc50191136bdc970ec962bd0bb657070a12779e71e28fea/Shapely-1.8.5.post1-cp38-cp38-manylinux_2_12_x86_64.manylinux2010_x86_64.whl (2.1 MB)\n",
      "\u001b[2K     \u001b[90m━━━━━━━━━━━━━━━━━━━━━━━━━━━━━━━━━━━━━━━━\u001b[0m \u001b[32m2.1/2.1 MB\u001b[0m \u001b[31m24.6 MB/s\u001b[0m eta \u001b[36m0:00:00\u001b[0m00:01\u001b[0m00:01\u001b[0m\n",
      "\u001b[?25hRequirement already satisfied: packaging in /usr/local/lib/python3.8/dist-packages (from geopandas) (21.3)\n",
      "Requirement already satisfied: certifi in /usr/local/lib/python3.8/dist-packages (from fiona>=1.8->geopandas) (2022.6.15)\n",
      "Requirement already satisfied: six>=1.7 in /usr/local/lib/python3.8/dist-packages (from fiona>=1.8->geopandas) (1.16.0)\n",
      "Collecting munch\n",
      "  Downloading https://mirrors.aliyun.com/pypi/packages/cc/ab/85d8da5c9a45e072301beb37ad7f833cd344e04c817d97e0cc75681d248f/munch-2.5.0-py2.py3-none-any.whl (10 kB)\n",
      "Requirement already satisfied: attrs>=17 in /usr/local/lib/python3.8/dist-packages (from fiona>=1.8->geopandas) (21.4.0)\n",
      "Collecting click-plugins>=1.0\n",
      "  Downloading https://mirrors.aliyun.com/pypi/packages/e9/da/824b92d9942f4e472702488857914bdd50f73021efea15b4cad9aca8ecef/click_plugins-1.1.1-py2.py3-none-any.whl (7.5 kB)\n",
      "Requirement already satisfied: setuptools in /usr/local/lib/python3.8/dist-packages (from fiona>=1.8->geopandas) (62.1.0)\n",
      "Collecting click>=4.0\n",
      "  Downloading https://mirrors.aliyun.com/pypi/packages/c2/f1/df59e28c642d583f7dacffb1e0965d0e00b218e0186d7858ac5233dce840/click-8.1.3-py3-none-any.whl (96 kB)\n",
      "\u001b[2K     \u001b[90m━━━━━━━━━━━━━━━━━━━━━━━━━━━━━━━━━━━━━━━━\u001b[0m \u001b[32m96.6/96.6 KB\u001b[0m \u001b[31m17.2 MB/s\u001b[0m eta \u001b[36m0:00:00\u001b[0m\n",
      "\u001b[?25hCollecting cligj>=0.5\n",
      "  Downloading https://mirrors.aliyun.com/pypi/packages/73/86/43fa9f15c5b9fb6e82620428827cd3c284aa933431405d1bcf5231ae3d3e/cligj-0.7.2-py3-none-any.whl (7.1 kB)\n",
      "Requirement already satisfied: numpy>=1.18.5 in /usr/local/lib/python3.8/dist-packages (from pandas>=1.0.0->geopandas) (1.22.3)\n",
      "Requirement already satisfied: python-dateutil>=2.8.1 in /usr/local/lib/python3.8/dist-packages (from pandas>=1.0.0->geopandas) (2.8.2)\n",
      "Requirement already satisfied: pytz>=2020.1 in /usr/local/lib/python3.8/dist-packages (from pandas>=1.0.0->geopandas) (2022.1)\n",
      "Requirement already satisfied: pyparsing!=3.0.5,>=2.0.2 in /usr/local/lib/python3.8/dist-packages (from packaging->geopandas) (3.0.9)\n",
      "Installing collected packages: shapely, pyproj, munch, click, cligj, click-plugins, fiona, geopandas\n",
      "Successfully installed click-8.1.3 click-plugins-1.1.1 cligj-0.7.2 fiona-1.8.22 geopandas-0.12.1 munch-2.5.0 pyproj-3.4.0 shapely-1.8.5.post1\n",
      "\u001b[33mWARNING: Running pip as the 'root' user can result in broken permissions and conflicting behaviour with the system package manager. It is recommended to use a virtual environment instead: https://pip.pypa.io/warnings/venv\u001b[0m\u001b[33m\n",
      "\u001b[0m\u001b[33mWARNING: You are using pip version 22.0.4; however, version 22.3.1 is available.\n",
      "You should consider upgrading via the '/usr/bin/python3.8 -m pip install --upgrade pip' command.\u001b[0m\u001b[33m\n",
      "\u001b[0mLooking in indexes: https://mirrors.aliyun.com/pypi/simple\n",
      "Collecting geojson\n",
      "  Downloading https://mirrors.aliyun.com/pypi/packages/e4/8d/9e28e9af95739e6d2d2f8d4bef0b3432da40b7c3588fbad4298c1be09e48/geojson-2.5.0-py2.py3-none-any.whl (14 kB)\n",
      "Installing collected packages: geojson\n",
      "Successfully installed geojson-2.5.0\n",
      "\u001b[33mWARNING: Running pip as the 'root' user can result in broken permissions and conflicting behaviour with the system package manager. It is recommended to use a virtual environment instead: https://pip.pypa.io/warnings/venv\u001b[0m\u001b[33m\n",
      "\u001b[0m\u001b[33mWARNING: You are using pip version 22.0.4; however, version 22.3.1 is available.\n",
      "You should consider upgrading via the '/usr/bin/python3.8 -m pip install --upgrade pip' command.\u001b[0m\u001b[33m\n",
      "\u001b[0mLooking in indexes: https://mirrors.aliyun.com/pypi/simple\n",
      "Requirement already satisfied: tqdm in /usr/local/lib/python3.8/dist-packages (4.64.1)\n",
      "\u001b[33mWARNING: Running pip as the 'root' user can result in broken permissions and conflicting behaviour with the system package manager. It is recommended to use a virtual environment instead: https://pip.pypa.io/warnings/venv\u001b[0m\u001b[33m\n",
      "\u001b[0m\u001b[33mWARNING: You are using pip version 22.0.4; however, version 22.3.1 is available.\n",
      "You should consider upgrading via the '/usr/bin/python3.8 -m pip install --upgrade pip' command.\u001b[0m\u001b[33m\n",
      "\u001b[0mLooking in indexes: https://mirrors.aliyun.com/pypi/simple\n",
      "Requirement already satisfied: torchvision in /usr/local/lib/python3.8/dist-packages (0.13.0+cu113)\n",
      "Requirement already satisfied: typing-extensions in /usr/local/lib/python3.8/dist-packages (from torchvision) (4.3.0)\n",
      "Requirement already satisfied: torch==1.12.0 in /usr/local/lib/python3.8/dist-packages (from torchvision) (1.12.0+cu113)\n",
      "Requirement already satisfied: pillow!=8.3.*,>=5.3.0 in /usr/local/lib/python3.8/dist-packages (from torchvision) (9.2.0)\n",
      "Requirement already satisfied: numpy in /usr/local/lib/python3.8/dist-packages (from torchvision) (1.22.3)\n",
      "Requirement already satisfied: requests in /usr/local/lib/python3.8/dist-packages (from torchvision) (2.28.1)\n",
      "Requirement already satisfied: charset-normalizer<3,>=2 in /usr/local/lib/python3.8/dist-packages (from requests->torchvision) (2.1.0)\n",
      "Requirement already satisfied: certifi>=2017.4.17 in /usr/local/lib/python3.8/dist-packages (from requests->torchvision) (2022.6.15)\n",
      "Requirement already satisfied: idna<4,>=2.5 in /usr/local/lib/python3.8/dist-packages (from requests->torchvision) (3.3)\n",
      "Requirement already satisfied: urllib3<1.27,>=1.21.1 in /usr/local/lib/python3.8/dist-packages (from requests->torchvision) (1.26.10)\n",
      "\u001b[33mWARNING: Running pip as the 'root' user can result in broken permissions and conflicting behaviour with the system package manager. It is recommended to use a virtual environment instead: https://pip.pypa.io/warnings/venv\u001b[0m\u001b[33m\n",
      "\u001b[0m\u001b[33mWARNING: You are using pip version 22.0.4; however, version 22.3.1 is available.\n",
      "You should consider upgrading via the '/usr/bin/python3.8 -m pip install --upgrade pip' command.\u001b[0m\u001b[33m\n",
      "\u001b[0m"
     ]
    }
   ],
   "source": [
    "import os\n",
    "\n",
    "data_dir = '/content/gdrive/My Drive/AYield/China/HISTOGRAM'\n",
    "data_dir = '/hy-tmp'\n",
    "\n",
    "code_dir = os.path.join('/content/gdrive/My Drive/GitHub', 'china')\n",
    "code_dir = os.path.join('/hy-tmp', 'china')\n",
    "os.chdir(code_dir)\n",
    "!pwd\n",
    "# !ls\n",
    "# !pip3 install --upgrade IPython\n",
    "!pip install fire\n",
    "!pip install geopandas\n",
    "!pip install geojson\n",
    "!pip install tqdm\n",
    "\n",
    "# !pip install cloud-tpu-client==0.10 torch==1.12.0 https://storage.googleapis.com/tpu-pytorch/wheels/colab/torch_xla-1.12-cp37-cp37m-linux_x86_64.whl \n",
    "# !pip install pprint\n",
    "\n",
    "from tqdm import tqdm\n",
    "import geojson\n",
    "\n",
    "from glob import glob\n",
    "\n",
    "!pip install torchvision\n",
    "# !pip install torch torchvision\n",
    "# sudo apt-get update & apt-get upgrade\n",
    "\n",
    "# !pip install --upgrade google-api-python-client\n",
    "# !gcloud init "
   ]
  },
  {
   "cell_type": "code",
   "execution_count": 3,
   "metadata": {
    "colab": {
     "base_uri": "https://localhost:8080/"
    },
    "executionInfo": {
     "elapsed": 1565,
     "status": "ok",
     "timestamp": 1665660480176,
     "user": {
      "displayName": "Koyaua Uvarov",
      "userId": "04551130653342672393"
     },
     "user_tz": -180
    },
    "id": "kD9yzda9w0zV",
    "outputId": "cde8ebab-5e7f-4783-d183-98d6c13bfaf9"
   },
   "outputs": [
    {
     "name": "stdout",
     "output_type": "stream",
     "text": [
      "['/hy-tmp/histogram_all_full.npz', '/hy-tmp/histogram_all_augmented_wheat.npz']\n",
      "/hy-tmp/china\n",
      "AChina_Predict_visual.ipynb  pycropparser.ipynb     pyviewer2.ipynb\n",
      "CropAreaAugmentation.ipynb   pyield_engineer.ipynb  pyviewer.ipynb\n",
      "CropArea_calc.ipynb\t     pyield_export.ipynb    rename_county.ipynb\n",
      "cyp\t\t\t     pyield_process.ipynb   run.py\n",
      "feature_Generator.ipynb      pyield_rnn2.ipynb\t    task_file_generate.ipynb\n",
      "Hist_analize.ipynb\t     pyield_rnn3.ipynb\t    TensorBoard.ipynb\n",
      "images_min_max.ipynb\t     pyield_rnn4.ipynb\t    Yield_csv_clearing.ipynb\n",
      "parse_county.ipynb\t     pyield_rnn.ipynb\n"
     ]
    }
   ],
   "source": [
    "datasets = glob(os.path.join(data_dir, '*.npz'))\n",
    "print(datasets)\n",
    "\n",
    "# code_dir = os.path.join(home_dir, 'pycrop-yield-prediction')\n",
    "# os.chdir(code_dir)\n",
    "!pwd\n",
    "!ls"
   ]
  },
  {
   "cell_type": "code",
   "execution_count": null,
   "metadata": {
    "colab": {
     "base_uri": "https://localhost:8080/",
     "output_embedded_package_id": "1lRx4nMwdwE2-5ZLeAz0f5givyi5jm93l"
    },
    "id": "wuRn4MqKNOIt",
    "outputId": "f28be3cc-b11f-4c0b-ce9a-86176d112836"
   },
   "outputs": [
    {
     "name": "stdout",
     "output_type": "stream",
     "text": [
      "/hy-tmp/china\n",
      "Using cuda\n",
      "run dataset :  /hy-tmp/histogram_all_augmented_wheat.npz /hy-tmp/histogram_all_full.npz\n",
      "run : pred_years: 2007, batch_size: 512, num_runs: 6\n",
      "(319, 9, 32, 512)\n",
      "Training to predict on 2007, Run number 1, Time 32\n",
      "Train set size: 7947, Test set size: 554\n",
      "run_1_year :  32 torch.Size([7947, 9, 32, 512])\n",
      "After split, training on 7153 examples, validating on 794 examples\n",
      "Training for 161000 epochs\n",
      "  0%|                                   | 350/161000 [04:29<34:08:26,  1.31it/s]"
     ]
    }
   ],
   "source": [
    "# fin     \n",
    "!pwd\n",
    "# !python run.py process\n",
    "# !python run.py train_rnn --pred_years=2008 --num_runs=6 --batch_size=16 --TB_writer='hist_aug' --train_dataset='/content/gdrive/My Drive/AYield/China/HISTOGRAM/histogram_all_augmented.npz' --valid_dataset='/content/gdrive/My Drive/AYield/China/HISTOGRAM/histogram_all_full.npz' --savedir='/content/gdrive/My Drive/AYield/China/RESULTS' \n",
    "!python run.py train_rnn --pred_years=2007 --num_runs=6 --batch_size=512 --train_dataset='/hy-tmp/histogram_all_augmented_wheat.npz' --valid_dataset='/hy-tmp/histogram_all_full.npz' --savedir='/hy-tmp' \n"
   ]
  },
  {
   "cell_type": "code",
   "execution_count": 5,
   "metadata": {},
   "outputs": [
    {
     "name": "stdout",
     "output_type": "stream",
     "text": [
      "  adding: rnn/ (stored 0%)\n",
      "  adding: rnn/runs/ (stored 0%)\n",
      "  adding: rnn/runs/TB_2011_1_512/ (stored 0%)\n",
      "  adding: rnn/runs/TB_2011_1_512/events.out.tfevents.1668094038.Iee0d03fd700601cab.6522.0 (deflated 69%)\n",
      "  adding: rnn/runs/TB_2011_1_512/Yield_Actual/ (stored 0%)\n",
      "  adding: rnn/runs/TB_2011_1_512/Yield_Actual/events.out.tfevents.1668094088.Iee0d03fd700601cab.6522.1 (deflated 55%)\n",
      "  adding: rnn/runs/TB_2011_1_512/Yield_Predict/ (stored 0%)\n",
      "  adding: rnn/runs/TB_2011_1_512/Yield_Predict/events.out.tfevents.1668094088.Iee0d03fd700601cab.6522.2 (deflated 55%)\n",
      "  adding: rnn/runs/TB_2011_1_512/Yield_GP/ (stored 0%)\n",
      "  adding: rnn/runs/TB_2011_1_512/Yield_GP/events.out.tfevents.1668094088.Iee0d03fd700601cab.6522.3 (deflated 55%)\n",
      "  adding: rnn/2011_1_32_gp.pth.tar (deflated 10%)\n",
      "  adding: rnn/2011.csv (deflated 29%)\n",
      "Start at 2022-11-10 15:28:13.823896163 +0000 UTC\n",
      "\n",
      "\n",
      "Parallel:      5                   Jobs:          5                   \n",
      "Threshold:     50.00MB             PartSize:      auto                \n",
      "VerifyLength:  false               VerifyMd5:     false               \n",
      "CheckpointDir: /root/.hycloud_ossutil_checkpoint\n",
      "\n",
      "\u001b[37m[---------------------------------------]\u001b[0m 100.00% \u001b[37m6.92MB/s\u001b[0m 6.76MB/6.76MB 1.179s\n",
      "\n",
      "Upload successfully, 6.76MB, n/a, /hy-tmp/rnn_2011.zip --> oss://rnn_2011.zip, cost [1179], status [200], request id [000001846227EE9E9010A6AA46B10F81]\n"
     ]
    }
   ],
   "source": [
    "os.chdir(data_dir)\n",
    "!zip -r rnn_2007.zip rnn/\n",
    "!oss cp rnn_2007.zip oss://"
   ]
  },
  {
   "cell_type": "code",
   "execution_count": null,
   "metadata": {},
   "outputs": [],
   "source": [
    "os.system(\"shutdown /s /t 1\")"
   ]
  }
 ],
 "metadata": {
  "accelerator": "GPU",
  "colab": {
   "authorship_tag": "ABX9TyOu21Ym9j9VMHXk1dojSBwF",
   "background_execution": "on",
   "collapsed_sections": [],
   "machine_shape": "hm",
   "provenance": [
    {
     "file_id": "1t1H7mNw2EUvyoknV1dcQGIxl63VhGaU4",
     "timestamp": 1659198338233
    },
    {
     "file_id": "1XPnjJDaHGyftnIKcrAWUwCHoyzn-Wis_",
     "timestamp": 1659111688705
    },
    {
     "file_id": "1vg2PwXg0C_e4wkea-p6IPa_TAvRA9adE",
     "timestamp": 1659096253434
    }
   ]
  },
  "gpuClass": "standard",
  "kernelspec": {
   "display_name": "Python 3 (ipykernel)",
   "language": "python",
   "name": "python3"
  },
  "language_info": {
   "codemirror_mode": {
    "name": "ipython",
    "version": 3
   },
   "file_extension": ".py",
   "mimetype": "text/x-python",
   "name": "python",
   "nbconvert_exporter": "python",
   "pygments_lexer": "ipython3",
   "version": "3.8.10"
  }
 },
 "nbformat": 4,
 "nbformat_minor": 4
}
