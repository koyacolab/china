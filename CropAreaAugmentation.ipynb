{
 "cells": [
  {
   "cell_type": "code",
   "execution_count": 1,
   "metadata": {
    "colab": {
     "base_uri": "https://localhost:8080/"
    },
    "executionInfo": {
     "elapsed": 15463,
     "status": "ok",
     "timestamp": 1665835594262,
     "user": {
      "displayName": "Koyaua Uvarov",
      "userId": "04551130653342672393"
     },
     "user_tz": -180
    },
    "id": "FtDLj5RefD6l",
    "outputId": "f83617fc-2d6f-41fd-be76-16a237291bab"
   },
   "outputs": [
    {
     "name": "stdout",
     "output_type": "stream",
     "text": [
      "Mounted at /content/gdrive/\n",
      "gdrive\tsample_data\n"
     ]
    }
   ],
   "source": [
    "from google.colab import drive\n",
    "drive.mount('/content/gdrive/')\n",
    "\n",
    "!ls"
   ]
  },
  {
   "cell_type": "code",
   "execution_count": 1,
   "metadata": {
    "colab": {
     "base_uri": "https://localhost:8080/"
    },
    "executionInfo": {
     "elapsed": 377,
     "status": "ok",
     "timestamp": 1665835594636,
     "user": {
      "displayName": "Koyaua Uvarov",
      "userId": "04551130653342672393"
     },
     "user_tz": -180
    },
    "id": "YO2RmWETfMhW",
    "outputId": "eb2c5633-c069-468a-cc7b-602abf522d84"
   },
   "outputs": [
    {
     "name": "stdout",
     "output_type": "stream",
     "text": [
      "Looking in indexes: https://mirrors.aliyun.com/pypi/simple\n",
      "Collecting tqdm\n",
      "  Downloading https://mirrors.aliyun.com/pypi/packages/47/bb/849011636c4da2e44f1253cd927cfb20ada4374d8b3a4e425416e84900cc/tqdm-4.64.1-py2.py3-none-any.whl (78 kB)\n",
      "\u001b[2K     \u001b[90m━━━━━━━━━━━━━━━━━━━━━━━━━━━━━━━━━━━━━━━━\u001b[0m \u001b[32m78.5/78.5 KB\u001b[0m \u001b[31m1.5 MB/s\u001b[0m eta \u001b[36m0:00:00\u001b[0ma \u001b[36m0:00:01\u001b[0m\n",
      "\u001b[?25hInstalling collected packages: tqdm\n",
      "Successfully installed tqdm-4.64.1\n",
      "\u001b[33mWARNING: Running pip as the 'root' user can result in broken permissions and conflicting behaviour with the system package manager. It is recommended to use a virtual environment instead: https://pip.pypa.io/warnings/venv\u001b[0m\u001b[33m\n",
      "\u001b[0m\u001b[33mWARNING: You are using pip version 22.0.4; however, version 22.3 is available.\n",
      "You should consider upgrading via the '/usr/bin/python3.8 -m pip install --upgrade pip' command.\u001b[0m\u001b[33m\n",
      "\u001b[0m/hy-tmp\n",
      "china  histogram_all_full.npz\n"
     ]
    }
   ],
   "source": [
    "!pip install tqdm\n",
    "from tqdm import tqdm\n",
    "\n",
    "import os\n",
    "import numpy as np\n",
    "\n",
    "data_dir = '/content/gdrive/My Drive/AYield/China/HISTOGRAM'\n",
    "data_dir = '/hy-tmp'\n",
    "\n",
    "os.chdir(data_dir)\n",
    "\n",
    "!pwd\n",
    "!ls"
   ]
  },
  {
   "cell_type": "code",
   "execution_count": 2,
   "metadata": {
    "colab": {
     "base_uri": "https://localhost:8080/"
    },
    "executionInfo": {
     "elapsed": 523115,
     "status": "ok",
     "timestamp": 1665836117748,
     "user": {
      "displayName": "Koyaua Uvarov",
      "userId": "04551130653342672393"
     },
     "user_tz": -180
    },
    "id": "7ifQRwLXgMlr",
    "outputId": "64da3fd6-92f0-4711-d97a-c2b7fa5b880b"
   },
   "outputs": [
    {
     "name": "stdout",
     "output_type": "stream",
     "text": [
      "(319, 9, 32, 512) (319, 2) (319,) (319,) (319, 2) (319,)\n",
      "img: (0, 9, 32, 512) 2464\n",
      "output_image :  <class 'numpy.ndarray'> (319, 9, 32, 512) (319, 2)\n"
     ]
    },
    {
     "name": "stderr",
     "output_type": "stream",
     "text": [
      "100%|██████████| 319/319 [14:25<00:00,  2.71s/it]\n"
     ]
    },
    {
     "name": "stdout",
     "output_type": "stream",
     "text": [
      "huh img:  (8501, 9, 32, 512) (8501, 2) (8501,) (8501,) (8501, 2)\n",
      "Finished generating image augmentation for wheat!\n"
     ]
    }
   ],
   "source": [
    "path_to_histogram = 'histogram_all_full.npz'\n",
    "with np.load(path_to_histogram) as hist:\n",
    "    images = hist[\"output_image\"]\n",
    "    locations = hist[\"output_locations\"]\n",
    "    yields = hist[\"output_yield\"]\n",
    "    years = hist[\"output_year\"]\n",
    "    indices = hist[\"output_index\"]\n",
    "    areas = hist[\"output_areas\"]\n",
    "\n",
    "# print('years : ', years)\n",
    "print(images.shape, locations.shape, yields.shape, years.shape, indices.shape, areas.shape)\n",
    "# fn\n",
    "hists = []\n",
    "img = np.empty( shape=[0,images.shape[1],images.shape[2],images.shape[3]] )\n",
    "loc = np.empty( shape=[0, locations.shape[1]] )\n",
    "yie = np.empty( shape=[0,] )\n",
    "yea = np.empty( shape=[0,] )\n",
    "ind = np.empty( shape=[0, indices.shape[1]] )\n",
    "are = np.empty( shape=[0,] )\n",
    "# img = np.repeat(np.expand_dims(images[0,...], axis=0), 4, axis=0)\n",
    "print('img:', img.shape, areas[0])\n",
    "print('output_image : ', type(images), images.shape, indices.shape)\n",
    "for ii in tqdm(range(0,indices.shape[0],1)):\n",
    "  # print(':', indices[ii,1], years[ii], areas[ii], yields[ii])\n",
    "  if areas[ii] > 1000:\n",
    "    areas[ii] = areas[ii] // 1000\n",
    "  # print(':', indices[ii,1], years[ii], areas[ii], yields[ii].round(4))\n",
    "  # img = np.repeat(np.expand_dims(images[ii,...], axis=0), areas[ii], axis=0)\n",
    "  # print('imgg:', imgg.shape)\n",
    "  img = np.concatenate((img, np.repeat(np.expand_dims(images[ii,...], axis=0), areas[ii], axis=0)), axis=0)\n",
    "  loc = np.concatenate((loc, np.repeat(np.expand_dims(locations[ii,...], axis=0), areas[ii], axis=0)), axis=0)\n",
    "  yie = np.concatenate((yie, np.repeat(np.expand_dims(yields[ii,...], axis=0), areas[ii], axis=0)), axis=0)\n",
    "  yea = np.concatenate((yea, np.repeat(np.expand_dims(years[ii,...], axis=0), areas[ii], axis=0)), axis=0)\n",
    "  ind = np.concatenate((ind, np.repeat(np.expand_dims(indices[ii,...], axis=0), areas[ii], axis=0)), axis=0)\n",
    "  # are = np.concatenate((img, np.repeat(np.expand_dims(images[ii,...], axis=0), areas[ii], axis=0)), axis=0)\n",
    "  # img = np.asarray(img)\n",
    "  # print(img.shape)\n",
    "  # hists.append( img )\n",
    "\n",
    "print('huh img: ', img.shape, loc.shape, yie.shape, yea.shape, ind.shape)\n",
    "\n",
    "images = img\n",
    "locations = loc\n",
    "yields = yie\n",
    "years = yea\n",
    "indices = ind\n",
    "\n",
    "np.savez(\n",
    "    f\"histogram_all_augmented_wheat.npz\",\n",
    "    output_image = images,\n",
    "    output_yield = yields,\n",
    "    output_year = years,\n",
    "    output_locations = locations,\n",
    "    output_indices = indices,\n",
    ")\n",
    "print(f\"Finished generating image augmentation for wheat!\")"
   ]
  },
  {
   "cell_type": "code",
   "execution_count": null,
   "metadata": {},
   "outputs": [],
   "source": []
  }
 ],
 "metadata": {
  "colab": {
   "authorship_tag": "ABX9TyOxdyEySMuscn1V5B7PO0tW",
   "machine_shape": "hm",
   "provenance": []
  },
  "kernelspec": {
   "display_name": "Python 3 (ipykernel)",
   "language": "python",
   "name": "python3"
  },
  "language_info": {
   "codemirror_mode": {
    "name": "ipython",
    "version": 3
   },
   "file_extension": ".py",
   "mimetype": "text/x-python",
   "name": "python",
   "nbconvert_exporter": "python",
   "pygments_lexer": "ipython3",
   "version": "3.8.10"
  }
 },
 "nbformat": 4,
 "nbformat_minor": 4
}
