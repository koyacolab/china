{
 "cells": [
  {
   "cell_type": "code",
   "execution_count": 1,
   "metadata": {
    "colab": {
     "base_uri": "https://localhost:8080/"
    },
    "executionInfo": {
     "elapsed": 15463,
     "status": "ok",
     "timestamp": 1665835594262,
     "user": {
      "displayName": "Koyaua Uvarov",
      "userId": "04551130653342672393"
     },
     "user_tz": -180
    },
    "id": "FtDLj5RefD6l",
    "outputId": "f83617fc-2d6f-41fd-be76-16a237291bab"
   },
   "outputs": [
    {
     "name": "stdout",
     "output_type": "stream",
     "text": [
      "Mounted at /content/gdrive/\n",
      "gdrive\tsample_data\n"
     ]
    }
   ],
   "source": [
    "from google.colab import drive\n",
    "drive.mount('/content/gdrive/')\n",
    "\n",
    "!ls"
   ]
  },
  {
   "cell_type": "code",
   "execution_count": 1,
   "metadata": {
    "colab": {
     "base_uri": "https://localhost:8080/"
    },
    "executionInfo": {
     "elapsed": 377,
     "status": "ok",
     "timestamp": 1665835594636,
     "user": {
      "displayName": "Koyaua Uvarov",
      "userId": "04551130653342672393"
     },
     "user_tz": -180
    },
    "id": "YO2RmWETfMhW",
    "outputId": "eb2c5633-c069-468a-cc7b-602abf522d84"
   },
   "outputs": [
    {
     "name": "stdout",
     "output_type": "stream",
     "text": [
      "Looking in indexes: https://mirrors.aliyun.com/pypi/simple\n",
      "Requirement already satisfied: tqdm in /usr/local/lib/python3.8/dist-packages (4.64.1)\n",
      "\u001b[33mWARNING: Running pip as the 'root' user can result in broken permissions and conflicting behaviour with the system package manager. It is recommended to use a virtual environment instead: https://pip.pypa.io/warnings/venv\u001b[0m\u001b[33m\n",
      "\u001b[0m\u001b[33mWARNING: You are using pip version 22.0.4; however, version 22.3.1 is available.\n",
      "You should consider upgrading via the '/usr/bin/python3.8 -m pip install --upgrade pip' command.\u001b[0m\u001b[33m\n",
      "\u001b[0m/hy-tmp\n",
      "china\t\t\t\t      corn_histogram_all_augmented.npz\trnn\n",
      "corn_histogram_all_augmented_exp.npz  corn_histogram_all_full.npz\n"
     ]
    }
   ],
   "source": [
    "!pip install tqdm\n",
    "from tqdm import tqdm\n",
    "\n",
    "import os\n",
    "import numpy as np\n",
    "\n",
    "data_dir = '/content/gdrive/My Drive/AYield/China/HISTOGRAM'\n",
    "data_dir = '/hy-tmp'\n",
    "\n",
    "os.chdir(data_dir)\n",
    "\n",
    "!pwd\n",
    "!ls"
   ]
  },
  {
   "cell_type": "code",
   "execution_count": 2,
   "metadata": {
    "colab": {
     "base_uri": "https://localhost:8080/"
    },
    "executionInfo": {
     "elapsed": 523115,
     "status": "ok",
     "timestamp": 1665836117748,
     "user": {
      "displayName": "Koyaua Uvarov",
      "userId": "04551130653342672393"
     },
     "user_tz": -180
    },
    "id": "7ifQRwLXgMlr",
    "outputId": "64da3fd6-92f0-4711-d97a-c2b7fa5b880b"
   },
   "outputs": [
    {
     "name": "stdout",
     "output_type": "stream",
     "text": [
      "areas: [97, 78, 61, 54, 52, 50, 48, 49, 52, 55, 64, 83, 96, 114, 147, 183, 58, 54, 53, 48, 45, 46, 44, 43, 43, 40, 38, 36, 34, 33, 36, 39, 2, 2, 2, 2, 2, 2, 2, 2, 2, 2, 2, 2, 2, 1, 2, 2, 8, 6, 6, 5, 5, 5, 4, 4, 4, 4, 4, 3, 3, 3, 4, 4, 5, 4, 4, 3, 3, 3, 3, 3, 3, 2, 2, 2, 2, 2, 2, 2, 1593, 1765, 1719, 1882, 1840, 1957, 1632, 1496, 1533, 1646, 1688, 1511, 1696, 1854, 2429, 4066, 16, 18, 19, 19, 18, 17, 16, 16, 16, 16, 15, 14, 13, 13, 13, 14, 11, 11, 10, 11, 10, 10, 9, 8, 7, 7, 7, 6, 6, 6, 6, 6, 199, 194, 188, 221, 227, 228, 238, 241, 243, 244, 248, 257, 265, 280, 274, 255, 420, 512, 445, 499, 503, 461, 349, 305, 302, 290, 282, 261, 231, 206, 206, 210, 3, 2, 2, 2, 2, 2, 2, 2, 2, 2, 2, 1, 1, 1, 1, 1, 3, 3, 2, 2, 2, 2, 2, 2, 2, 2, 1, 1, 1, 1, 1, 1, 21, 20, 18, 17, 16, 15, 13, 12, 12, 11, 11, 9, 9, 9, 9, 9, 25, 26, 26, 37, 33, 30, 25, 24, 21, 20, 20, 20, 20, 19, 20, 20, 13, 12, 12, 14, 15, 15, 13, 13, 13, 12, 12, 12, 11, 12, 12, 12, 16, 15, 15, 16, 16, 16, 16, 16, 16, 16, 16, 16, 16, 16, 16, 16, 10, 10, 10, 10, 9, 9, 8, 8, 7, 7, 7, 7, 7, 7, 7, 12, 6, 6, 6, 5, 5, 5, 5, 4, 4, 4, 4, 4, 4, 4, 4, 4, 7, 7, 6, 6, 6, 6, 6, 5, 5, 5, 6, 6, 6, 5, 6, 6, 41, 39, 41, 40, 35, 35, 34, 32, 31, 29, 28, 25, 24, 23, 24, 23]\n",
      "(320, 9, 32, 512) (320, 2) (320,) (320,) (320, 2) (320,)\n",
      "img: (0, 9, 32, 512) 97\n",
      "output_image :  <class 'numpy.ndarray'> (320, 9, 32, 512) (320, 2)\n"
     ]
    },
    {
     "name": "stderr",
     "output_type": "stream",
     "text": [
      "100%|██████████| 320/320 [13:55<00:00,  2.61s/it]\n"
     ]
    },
    {
     "name": "stdout",
     "output_type": "stream",
     "text": [
      "huh img:  (12608, 9, 32, 512) (12608, 2) (12608,) (12608,) (12608, 2)\n",
      "Finished generating image augmentation for corn!\n"
     ]
    }
   ],
   "source": [
    "CROP = 'corn'\n",
    "path_to_histogram = f'{CROP}_histogram_all_full.npz'\n",
    "with np.load(path_to_histogram) as hist:\n",
    "    images = hist[\"output_image\"]\n",
    "    locations = hist[\"output_locations\"]\n",
    "    yields = hist[\"output_yield\"]\n",
    "    years = hist[\"output_year\"]\n",
    "    indices = hist[\"output_index\"]\n",
    "    areas = hist[\"output_areas\"]\n",
    "    \n",
    "print('areas:', list(areas))\n",
    "\n",
    "# fn\n",
    "\n",
    "# print('years : ', years)\n",
    "print(images.shape, locations.shape, yields.shape, years.shape, indices.shape, areas.shape)\n",
    "# fn\n",
    "hists = []\n",
    "img = np.empty( shape=[0,images.shape[1],images.shape[2],images.shape[3]] )\n",
    "loc = np.empty( shape=[0, locations.shape[1]] )\n",
    "yie = np.empty( shape=[0,] )\n",
    "yea = np.empty( shape=[0,] )\n",
    "ind = np.empty( shape=[0, indices.shape[1]] )\n",
    "are = np.empty( shape=[0,] )\n",
    "# img = np.repeat(np.expand_dims(images[0,...], axis=0), 4, axis=0)\n",
    "print('img:', img.shape, areas[0])\n",
    "print('output_image : ', type(images), images.shape, indices.shape)\n",
    "for ii in tqdm(range(0,indices.shape[0],1)):\n",
    "  # print(':', indices[ii,1], years[ii], areas[ii], yields[ii])\n",
    "  if areas[ii] > 1000:\n",
    "    areas[ii] = areas[ii] // 16 #150\n",
    "  elif areas[ii] > 250:\n",
    "    areas[ii] = areas[ii] // 2 #100\n",
    "\n",
    "  # print(':', indices[ii,1], years[ii], areas[ii], yields[ii].round(4))\n",
    "  # img = np.repeat(np.expand_dims(images[ii,...], axis=0), areas[ii], axis=0)\n",
    "  # print('imgg:', imgg.shape)\n",
    "  img = np.concatenate((img, np.repeat(np.expand_dims(images[ii,...], axis=0), areas[ii], axis=0)), axis=0)\n",
    "  loc = np.concatenate((loc, np.repeat(np.expand_dims(locations[ii,...], axis=0), areas[ii], axis=0)), axis=0)\n",
    "  yie = np.concatenate((yie, np.repeat(np.expand_dims(yields[ii,...], axis=0), areas[ii], axis=0)), axis=0)\n",
    "  yea = np.concatenate((yea, np.repeat(np.expand_dims(years[ii,...], axis=0), areas[ii], axis=0)), axis=0)\n",
    "  ind = np.concatenate((ind, np.repeat(np.expand_dims(indices[ii,...], axis=0), areas[ii], axis=0)), axis=0)\n",
    "  # are = np.concatenate((img, np.repeat(np.expand_dims(images[ii,...], axis=0), areas[ii], axis=0)), axis=0)\n",
    "  # img = np.asarray(img)\n",
    "  # print(img.shape)\n",
    "  # hists.append( img )\n",
    "\n",
    "print('huh img: ', img.shape, loc.shape, yie.shape, yea.shape, ind.shape)\n",
    "\n",
    "images = img\n",
    "locations = loc\n",
    "yields = yie\n",
    "years = yea\n",
    "indices = ind\n",
    "\n",
    "np.savez(\n",
    "    f\"{CROP}_histogram_all_augmented.npz\",\n",
    "    output_image = images,\n",
    "    output_yield = yields,\n",
    "    output_year = years,\n",
    "    output_locations = locations,\n",
    "    output_index = indices,\n",
    ")\n",
    "print(f\"Finished generating image augmentation for {CROP}!\")"
   ]
  },
  {
   "cell_type": "code",
   "execution_count": null,
   "metadata": {},
   "outputs": [],
   "source": [
    "from matplotlib import pyplot as plt\n",
    "\n",
    "X = [X for X in range(0, len(areas))]\n",
    "\n",
    "plt.plot(X, areas)\n",
    "\n",
    "with np.load(path_to_histogram) as hist:\n",
    "    ars = hist[\"output_areas\"]\n",
    "    \n",
    "plt.plot(X, ars)\n",
    "\n",
    "plt.ylim([0, 550])\n",
    "\n",
    "plt.show()\n",
    "\n"
   ]
  },
  {
   "cell_type": "code",
   "execution_count": null,
   "metadata": {},
   "outputs": [],
   "source": []
  }
 ],
 "metadata": {
  "colab": {
   "authorship_tag": "ABX9TyOxdyEySMuscn1V5B7PO0tW",
   "machine_shape": "hm",
   "provenance": []
  },
  "kernelspec": {
   "display_name": "Python 3 (ipykernel)",
   "language": "python",
   "name": "python3"
  },
  "language_info": {
   "codemirror_mode": {
    "name": "ipython",
    "version": 3
   },
   "file_extension": ".py",
   "mimetype": "text/x-python",
   "name": "python",
   "nbconvert_exporter": "python",
   "pygments_lexer": "ipython3",
   "version": "3.8.10"
  }
 },
 "nbformat": 4,
 "nbformat_minor": 4
}
