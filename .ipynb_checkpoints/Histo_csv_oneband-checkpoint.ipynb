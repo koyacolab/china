{
 "cells": [
  {
   "cell_type": "code",
   "execution_count": 1,
   "metadata": {
    "colab": {
     "base_uri": "https://localhost:8080/"
    },
    "id": "EtSF_kNKPhNd",
    "outputId": "9451dcd3-becb-4553-ff1c-9caf35249002"
   },
   "outputs": [],
   "source": [
    "# from google.colab import drive\n",
    "# drive.mount('/content/gdrive/')\n",
    "\n",
    "# !ls"
   ]
  },
  {
   "cell_type": "code",
   "execution_count": 2,
   "metadata": {
    "colab": {
     "base_uri": "https://localhost:8080/"
    },
    "id": "opYlvyWWPpq2",
    "outputId": "15a5a61a-f491-4103-84c9-6e850f4371e3"
   },
   "outputs": [
    {
     "name": "stdout",
     "output_type": "stream",
     "text": [
      "/hy-tmp\n",
      "Looking in indexes: https://mirrors.aliyun.com/pypi/simple\n",
      "Requirement already satisfied: tqdm in /usr/local/lib/python3.8/dist-packages (4.64.1)\n",
      "\u001b[33mWARNING: Running pip as the 'root' user can result in broken permissions and conflicting behaviour with the system package manager. It is recommended to use a virtual environment instead: https://pip.pypa.io/warnings/venv\u001b[0m\u001b[33m\n",
      "\u001b[0m\u001b[33mWARNING: You are using pip version 22.0.4; however, version 22.3.1 is available.\n",
      "You should consider upgrading via the '/usr/bin/python3.8 -m pip install --upgrade pip' command.\u001b[0m\u001b[33m\n",
      "\u001b[0m"
     ]
    }
   ],
   "source": [
    "import os\n",
    "\n",
    "home_dir = '/content/gdrive/My Drive/ATFTransformer'\n",
    "home_dir = '/hy-tmp'\n",
    "os.chdir(home_dir)\n",
    "!pwd\n",
    "\n",
    "!pip install tqdm\n",
    "from glob import glob\n",
    "from tqdm import tqdm\n",
    "\n",
    "import numpy as np\n",
    "import pandas as pd\n",
    "\n",
    "import multiprocessing\n",
    "import time\n",
    "\n",
    "from multiprocessing import Pool, freeze_support"
   ]
  },
  {
   "cell_type": "code",
   "execution_count": 3,
   "metadata": {
    "colab": {
     "base_uri": "https://localhost:8080/"
    },
    "id": "StcBVNPFPu7D",
    "outputId": "20208991-2fea-42db-d805-1a92f549c1a8"
   },
   "outputs": [
    {
     "name": "stdout",
     "output_type": "stream",
     "text": [
      "/hy-tmp\n",
      "['/hy-tmp/corn_histogram_all_full.npz']\n"
     ]
    }
   ],
   "source": [
    "data_dir = os.path.join(home_dir)\n",
    "os.chdir(data_dir)\n",
    "!pwd\n",
    "# !ls\n",
    "\n",
    "files = glob(os.path.join(data_dir, '*.npz'))\n",
    "\n",
    "print(files)"
   ]
  },
  {
   "cell_type": "code",
   "execution_count": 4,
   "metadata": {
    "colab": {
     "base_uri": "https://localhost:8080/"
    },
    "id": "cNJROYwxP93k",
    "outputId": "e5f35caf-01a5-4e73-f59f-0cd6deb0f998"
   },
   "outputs": [
    {
     "name": "stdout",
     "output_type": "stream",
     "text": [
      "<class 'numpy.lib.npyio.NpzFile'> ['output_image', 'output_yield', 'output_year', 'output_locations', 'output_index', 'output_sownareas', 'output_yieldvals']\n",
      "<class 'numpy.ndarray'> (320, 9, 32, 512)\n"
     ]
    }
   ],
   "source": [
    "filename = '/hy-tmp/corn_histogram_all_full.npz'\n",
    "# filename = '/hy-tmp/corn_histogram_rawdensity.npz'\n",
    "\n",
    "hists = np.load(filename)\n",
    "\n",
    "print(type(hists), list(hists.keys()))\n",
    "print(type(hists['output_image']), hists['output_image'].shape)"
   ]
  },
  {
   "cell_type": "code",
   "execution_count": 5,
   "metadata": {
    "colab": {
     "base_uri": "https://localhost:8080/"
    },
    "id": "qk-bTHEGVV0T",
    "outputId": "acca5eb3-8902-403f-a8e6-604f26ba83d4"
   },
   "outputs": [
    {
     "name": "stdout",
     "output_type": "stream",
     "text": [
      "<class 'numpy.ndarray'> (320, 9, 32, 512)\n",
      "(512,)\n",
      "9\n",
      "11 [0, 30, 60, 90, 120, 150, 180, 210, 240, 270, 300]\n",
      "11 [30, 60, 90, 120, 150, 180, 210, 240, 270, 300, 320]\n"
     ]
    },
    {
     "ename": "FileNotFoundError",
     "evalue": "[Errno 2] No such file or directory: '/hy-tmp/corn_histogram_rawdensity.npz'",
     "output_type": "error",
     "traceback": [
      "\u001b[0;31m---------------------------------------------------------------------------\u001b[0m",
      "\u001b[0;31mRemoteTraceback\u001b[0m                           Traceback (most recent call last)",
      "\u001b[0;31mRemoteTraceback\u001b[0m: \n\"\"\"\nTraceback (most recent call last):\n  File \"/usr/lib/python3.8/multiprocessing/pool.py\", line 125, in worker\n    result = (True, func(*args, **kwds))\n  File \"/usr/lib/python3.8/multiprocessing/pool.py\", line 51, in starmapstar\n    return list(itertools.starmap(args[0], args[1]))\n  File \"/tmp/ipykernel_5127/1258716439.py\", line 37, in get_ds\n    hists = np.load(filename)\n  File \"/usr/local/lib/python3.8/dist-packages/numpy/lib/npyio.py\", line 407, in load\n    fid = stack.enter_context(open(os_fspath(file), \"rb\"))\nFileNotFoundError: [Errno 2] No such file or directory: '/hy-tmp/corn_histogram_rawdensity.npz'\n\"\"\"",
      "\nThe above exception was the direct cause of the following exception:\n",
      "\u001b[0;31mFileNotFoundError\u001b[0m                         Traceback (most recent call last)",
      "Input \u001b[0;32mIn [5]\u001b[0m, in \u001b[0;36m<cell line: 76>\u001b[0;34m()\u001b[0m\n\u001b[1;32m     74\u001b[0m     \u001b[38;5;28;01mreturn\u001b[39;00m df\n\u001b[1;32m     76\u001b[0m \u001b[38;5;28;01mwith\u001b[39;00m Pool(processes\u001b[38;5;241m=\u001b[39m\u001b[38;5;241m11\u001b[39m) \u001b[38;5;28;01mas\u001b[39;00m pool:\n\u001b[0;32m---> 77\u001b[0m     results \u001b[38;5;241m=\u001b[39m \u001b[43mpool\u001b[49m\u001b[38;5;241;43m.\u001b[39;49m\u001b[43mstarmap\u001b[49m\u001b[43m(\u001b[49m\u001b[43mget_ds\u001b[49m\u001b[43m,\u001b[49m\u001b[43m \u001b[49m\u001b[38;5;28;43mzip\u001b[39;49m\u001b[43m(\u001b[49m\u001b[43midx_s\u001b[49m\u001b[43m,\u001b[49m\u001b[43m \u001b[49m\u001b[43midx_e\u001b[49m\u001b[43m)\u001b[49m\u001b[43m)\u001b[49m\n",
      "File \u001b[0;32m/usr/lib/python3.8/multiprocessing/pool.py:372\u001b[0m, in \u001b[0;36mPool.starmap\u001b[0;34m(self, func, iterable, chunksize)\u001b[0m\n\u001b[1;32m    366\u001b[0m \u001b[38;5;28;01mdef\u001b[39;00m \u001b[38;5;21mstarmap\u001b[39m(\u001b[38;5;28mself\u001b[39m, func, iterable, chunksize\u001b[38;5;241m=\u001b[39m\u001b[38;5;28;01mNone\u001b[39;00m):\n\u001b[1;32m    367\u001b[0m     \u001b[38;5;124;03m'''\u001b[39;00m\n\u001b[1;32m    368\u001b[0m \u001b[38;5;124;03m    Like `map()` method but the elements of the `iterable` are expected to\u001b[39;00m\n\u001b[1;32m    369\u001b[0m \u001b[38;5;124;03m    be iterables as well and will be unpacked as arguments. Hence\u001b[39;00m\n\u001b[1;32m    370\u001b[0m \u001b[38;5;124;03m    `func` and (a, b) becomes func(a, b).\u001b[39;00m\n\u001b[1;32m    371\u001b[0m \u001b[38;5;124;03m    '''\u001b[39;00m\n\u001b[0;32m--> 372\u001b[0m     \u001b[38;5;28;01mreturn\u001b[39;00m \u001b[38;5;28;43mself\u001b[39;49m\u001b[38;5;241;43m.\u001b[39;49m\u001b[43m_map_async\u001b[49m\u001b[43m(\u001b[49m\u001b[43mfunc\u001b[49m\u001b[43m,\u001b[49m\u001b[43m \u001b[49m\u001b[43miterable\u001b[49m\u001b[43m,\u001b[49m\u001b[43m \u001b[49m\u001b[43mstarmapstar\u001b[49m\u001b[43m,\u001b[49m\u001b[43m \u001b[49m\u001b[43mchunksize\u001b[49m\u001b[43m)\u001b[49m\u001b[38;5;241;43m.\u001b[39;49m\u001b[43mget\u001b[49m\u001b[43m(\u001b[49m\u001b[43m)\u001b[49m\n",
      "File \u001b[0;32m/usr/lib/python3.8/multiprocessing/pool.py:771\u001b[0m, in \u001b[0;36mApplyResult.get\u001b[0;34m(self, timeout)\u001b[0m\n\u001b[1;32m    769\u001b[0m     \u001b[38;5;28;01mreturn\u001b[39;00m \u001b[38;5;28mself\u001b[39m\u001b[38;5;241m.\u001b[39m_value\n\u001b[1;32m    770\u001b[0m \u001b[38;5;28;01melse\u001b[39;00m:\n\u001b[0;32m--> 771\u001b[0m     \u001b[38;5;28;01mraise\u001b[39;00m \u001b[38;5;28mself\u001b[39m\u001b[38;5;241m.\u001b[39m_value\n",
      "\u001b[0;31mFileNotFoundError\u001b[0m: [Errno 2] No such file or directory: '/hy-tmp/corn_histogram_rawdensity.npz'"
     ]
    }
   ],
   "source": [
    "freeze_support()\n",
    "\n",
    "print(type(hists['output_image']), hists['output_image'].shape)\n",
    "\n",
    "bins_name = list()\n",
    "bins_valu = list()\n",
    "\n",
    "for band in range(0, hists['output_image'].shape[1]):\n",
    "    for bins in range(0, hists['output_image'].shape[3]):\n",
    "        bins_name.append(f'band_{band}_{bins}')\n",
    "\n",
    "# print(bins_name)\n",
    "print(hists['output_image'][0][0][0].shape)\n",
    "# print(list(hists['output_image'][0][0][0]))\n",
    "print(hists['output_index'][100][1])\n",
    "\n",
    "# fn\n",
    "\n",
    "idx_s = [x for x in range(0,320,30)]\n",
    "idx_e = [x for x in range(30,320,30)]\n",
    "idx_e.append(320)\n",
    "\n",
    "print(len(idx_s), idx_s)\n",
    "print(len(idx_e), idx_e)\n",
    "\n",
    "# idx_s = [x for x in range(0,320,40)]\n",
    "# idx_e = [x for x in range(40,321,40)]\n",
    "\n",
    "# print(len(idx_s), idx_s)\n",
    "# print(len(idx_e), idx_e)\n",
    "\n",
    "# fn\n",
    "\n",
    "def get_ds(idx_s, idx_e):\n",
    "    filename = '/hy-tmp/corn_histogram_all_full.npz'\n",
    "    # filename = '/hy-tmp/corn_histogram_rawdensity.npz'\n",
    "    hists = np.load(filename)\n",
    "    df = pd.DataFrame()\n",
    "\n",
    "    time_idx = 0\n",
    "    index_idx = 0\n",
    "    for idx in range(idx_s, idx_e):\n",
    "        for time_idx in range(0, hists['output_image'].shape[2]):\n",
    "            bins_dict = dict()\n",
    "            for band_idx in range(0, hists['output_image'].shape[1]):    \n",
    "                bins_name = list()\n",
    "                for bins in range(0, hists['output_image'].shape[3]):\n",
    "                    bins_name.append(f'band_{band_idx}_{bins}')\n",
    "                bins_dict.update(dict(zip(bins_name,list(hists['output_image'][idx][band_idx][time_idx]))))\n",
    "            # print(len(bins_dict), bins_dict)\n",
    "            # fn\n",
    "\n",
    "            df1 = pd.DataFrame( hists['output_year'][idx], columns=['years'], index=[index_idx] )\n",
    "            df2 = pd.DataFrame( hists['output_yield'][idx], columns=['yield'], index=[index_idx] )\n",
    "            df3 = pd.DataFrame( hists['output_sownareas'][idx], columns=['sownareas'], index=[index_idx] )\n",
    "            df4 = pd.DataFrame( hists['output_yieldvals'][idx], columns=['yieldvals'], index=[index_idx] )\n",
    "            df5 = pd.DataFrame( hists['output_index'][idx][1], columns=['county'], index=[index_idx] )\n",
    "            df6 = pd.DataFrame( f'MOD_{time_idx}', columns=['MODIS'], index=[index_idx] )\n",
    "            df7 = pd.DataFrame( time_idx, columns=['time_idx'], index=[index_idx] )\n",
    "            df8 = pd.DataFrame(bins_dict, index=[index_idx])\n",
    "\n",
    "            df_r = pd.concat( [df1 , df2], axis=1)\n",
    "            df_r = pd.concat( [df_r, df3], axis=1)\n",
    "            df_r = pd.concat( [df_r, df4], axis=1)\n",
    "            df_r = pd.concat( [df_r, df5], axis=1)\n",
    "            df_r = pd.concat( [df_r, df6], axis=1)\n",
    "            df_r = pd.concat( [df_r, df7], axis=1)\n",
    "            df_r = pd.concat( [df_r, df8], axis=1)\n",
    "\n",
    "            df = pd.concat( [df, df_r], axis=0)\n",
    "\n",
    "            index_idx = index_idx + 1\n",
    "            \n",
    "    return df\n",
    "\n",
    "with Pool(processes=11) as pool:\n",
    "    results = pool.starmap(get_ds, zip(idx_s, idx_e))\n",
    "\n",
    "# df.to_csv('china_prl.csv')\n",
    "\n",
    "\n",
    "# fn\n",
    "# for indx in range(0, hists.shape[0]):\n",
    "#   for time_idx in range(0, hists.shape[2]):\n",
    "#     for bands in range(0, hists.shape[1]):\n"
   ]
  },
  {
   "cell_type": "code",
   "execution_count": null,
   "metadata": {},
   "outputs": [],
   "source": [
    "print(type(results), len(results))\n",
    "\n",
    "filesave = 'corn_china_pandas_rawspectra_onebands.csv'\n",
    "filesave = 'corn_china_pandas_onebands.csv'\n",
    "\n",
    "df = pd.DataFrame()\n",
    "for ii in range(0, 11):\n",
    "    df = pd.concat( [df, results[ii]], axis=0 )\n",
    "    \n",
    "df.head()\n",
    "    \n",
    "df.to_csv(filesave)\n",
    "    "
   ]
  },
  {
   "cell_type": "code",
   "execution_count": null,
   "metadata": {
    "colab": {
     "base_uri": "https://localhost:8080/",
     "height": 505
    },
    "id": "vmW-HxrfXprY",
    "outputId": "864f8dbf-623a-47b5-9885-84a23ab37bd4"
   },
   "outputs": [],
   "source": [
    "# filesave = 'corn_china_pandas_onebands.csv'\n",
    "filesave = 'corn_china_pandas_rawspectra_onebands.csv'\n",
    "filesave = 'corn_china_pandas_onebands.csv'\n",
    "ds = pd.read_csv(filesave)"
   ]
  },
  {
   "cell_type": "code",
   "execution_count": null,
   "metadata": {},
   "outputs": [],
   "source": [
    "ds[\"years\"]  = ds[\"years\"].astype(int)\n",
    "ds[\"county\"] = ds[\"county\"].astype(int)\n",
    "\n",
    "len(ds[ds[\"county\"] == 0])\n",
    "len(ds[ds[\"years\"] == 2003])\n",
    "\n",
    "ds[(ds[\"county\"] == 0) & (ds[\"years\"] == 2003)]"
   ]
  },
  {
   "cell_type": "code",
   "execution_count": null,
   "metadata": {},
   "outputs": [],
   "source": [
    "ds[\"years\"]  = ds[\"years\"].astype(int)\n",
    "ds[\"county\"] = ds[\"county\"].astype(int)\n",
    "\n",
    "indx = 0\n",
    "spec = list()\n",
    "for county in tqdm(range(0, len(ds[ds[\"county\"] == 0]))):\n",
    "    # for time_idx in range(0,32):\n",
    "    spec.append([])\n",
    "    for band in range(0, 9):\n",
    "        for bins in range(0, 512):\n",
    "            # print(len(ds[f'band_{band}_{bins}'])\n",
    "            spec[county].append( ds[f'band_{band}_{bins}'].iloc[county] )\n",
    "\n",
    "Y = np.asarray(spec)"
   ]
  },
  {
   "cell_type": "code",
   "execution_count": null,
   "metadata": {},
   "outputs": [],
   "source": [
    "print(Y.shape)"
   ]
  },
  {
   "cell_type": "code",
   "execution_count": null,
   "metadata": {},
   "outputs": [],
   "source": [
    "from matplotlib import pyplot as plt\n",
    "\n",
    "X = [X for X in range(0, Y.shape[-1])]\n",
    "\n",
    "fig, ax1 = plt.subplots(nrows=1, ncols=1, figsize=(20,5))\n",
    "\n",
    "for ii in tqdm(range(0, Y.shape[0])):\n",
    "    ax1.plot(X, Y[ii,:])\n",
    "\n",
    "\n",
    "plt.show()\n",
    "# ax1.plot(X, predictions, color='r', label=\"Predicted\")"
   ]
  },
  {
   "cell_type": "code",
   "execution_count": null,
   "metadata": {},
   "outputs": [],
   "source": [
    "# !zip corn_china_pandas_prl11.csv.zip corn_china_pandas.csv\n",
    "!cp corn_china_pandas_onebands.csv corn_china_pandas_onebands.csv.zip\n",
    "!oss cp corn_china_pandas_onebands.csv.zip oss://"
   ]
  },
  {
   "cell_type": "code",
   "execution_count": null,
   "metadata": {},
   "outputs": [],
   "source": [
    "fn\n",
    "os.system(\"shutdown /s /t 1\")"
   ]
  },
  {
   "cell_type": "code",
   "execution_count": null,
   "metadata": {
    "id": "WwiQwq_iQxPV"
   },
   "outputs": [],
   "source": [
    "print(type(hists['output_image']), hists['output_image'].shape)\n",
    "print(type(hists['output_yield']), hists['output_yield'].shape)\n",
    "print(type(hists['output_year']), hists['output_year'].shape)\n",
    "print(type(hists['output_locations']), hists['output_locations'].shape)\n",
    "print(type(hists['output_index']), hists['output_index'].shape)\n",
    "print(hists['output_year'])\n",
    "# print(hists['output_index'])\n",
    "# fn"
   ]
  },
  {
   "cell_type": "code",
   "execution_count": null,
   "metadata": {
    "id": "jagp-TPRU1Hl"
   },
   "outputs": [],
   "source": []
  },
  {
   "cell_type": "code",
   "execution_count": null,
   "metadata": {
    "id": "lXXNUXtsRRjF"
   },
   "outputs": [],
   "source": [
    "from matplotlib import pyplot as plt\n",
    "# print(hists['output_index'])\n",
    "\n",
    "bands = [x for x in range(0,9,1)]\n",
    "years = [x for x in range(2003, 2019, 1)]\n",
    "times = [x for x in range(0,32,1)]\n",
    "\n",
    "print('years :', years)\n",
    "      \n",
    "counties = [0, 1, 2, 3, 5, 8, 9, 11, 12, 13, 14, 15, 16, 17, 19, 21, 23, 24, 26, 29]\n",
    "\n",
    "num_bins = 512\n",
    "bin_seq = np.linspace(1, num_bins, num_bins + 1) \n",
    "\n",
    "# fig, axs = plt.subplots(1, 9, figsize=(25,5))\n",
    "\n",
    "it = 0\n",
    "for county in range(0,len(counties),1):\n",
    "  fig, axs = plt.subplots(1, 9, figsize=(25,5))\n",
    "  for year in [0,1]:  #range(0,len(years),1): \n",
    "    for band in bands:\n",
    "      for time in times:\n",
    "        density = hists['output_image'][it,band,time,:]\n",
    "        # print(len(density))\n",
    "        axs[band].plot(bin_seq[0:-1], density)\n",
    "      it = it + 1\n",
    "    print(it)\n",
    "\n",
    "  plt.show()\n",
    "  "
   ]
  }
 ],
 "metadata": {
  "colab": {
   "machine_shape": "hm",
   "provenance": []
  },
  "gpuClass": "standard",
  "kernelspec": {
   "display_name": "Python 3 (ipykernel)",
   "language": "python",
   "name": "python3"
  },
  "language_info": {
   "codemirror_mode": {
    "name": "ipython",
    "version": 3
   },
   "file_extension": ".py",
   "mimetype": "text/x-python",
   "name": "python",
   "nbconvert_exporter": "python",
   "pygments_lexer": "ipython3",
   "version": "3.8.10"
  }
 },
 "nbformat": 4,
 "nbformat_minor": 4
}
