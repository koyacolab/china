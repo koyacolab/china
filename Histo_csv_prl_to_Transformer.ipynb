{
 "cells": [
  {
   "cell_type": "code",
   "execution_count": 1,
   "metadata": {
    "colab": {
     "base_uri": "https://localhost:8080/"
    },
    "id": "EtSF_kNKPhNd",
    "outputId": "9451dcd3-becb-4553-ff1c-9caf35249002"
   },
   "outputs": [
    {
     "name": "stdout",
     "output_type": "stream",
     "text": [
      "Drive already mounted at /content/gdrive/; to attempt to forcibly remount, call drive.mount(\"/content/gdrive/\", force_remount=True).\n",
      "gdrive\tsample_data\n"
     ]
    }
   ],
   "source": [
    "from google.colab import drive\n",
    "drive.mount('/content/gdrive/')\n",
    "\n",
    "!ls"
   ]
  },
  {
   "cell_type": "code",
   "execution_count": 1,
   "metadata": {
    "colab": {
     "base_uri": "https://localhost:8080/"
    },
    "id": "opYlvyWWPpq2",
    "outputId": "15a5a61a-f491-4103-84c9-6e850f4371e3"
   },
   "outputs": [
    {
     "name": "stdout",
     "output_type": "stream",
     "text": [
      "/hy-tmp\n",
      "Looking in indexes: https://mirrors.aliyun.com/pypi/simple\n",
      "Collecting tqdm\n",
      "  Downloading https://mirrors.aliyun.com/pypi/packages/47/bb/849011636c4da2e44f1253cd927cfb20ada4374d8b3a4e425416e84900cc/tqdm-4.64.1-py2.py3-none-any.whl (78 kB)\n",
      "\u001b[2K     \u001b[90m━━━━━━━━━━━━━━━━━━━━━━━━━━━━━━━━━━━━━━━\u001b[0m \u001b[32m78.5/78.5 KB\u001b[0m \u001b[31m149.3 kB/s\u001b[0m eta \u001b[36m0:00:00\u001b[0ma \u001b[36m0:00:01\u001b[0m\n",
      "\u001b[?25hInstalling collected packages: tqdm\n",
      "Successfully installed tqdm-4.64.1\n",
      "\u001b[33mWARNING: Running pip as the 'root' user can result in broken permissions and conflicting behaviour with the system package manager. It is recommended to use a virtual environment instead: https://pip.pypa.io/warnings/venv\u001b[0m\u001b[33m\n",
      "\u001b[0m\u001b[33mWARNING: You are using pip version 22.0.4; however, version 22.3.1 is available.\n",
      "You should consider upgrading via the '/usr/bin/python3.8 -m pip install --upgrade pip' command.\u001b[0m\u001b[33m\n",
      "\u001b[0m"
     ]
    }
   ],
   "source": [
    "import os\n",
    "\n",
    "home_dir = '/content/gdrive/My Drive/ATFTransformer'\n",
    "home_dir = '/hy-tmp'\n",
    "os.chdir(home_dir)\n",
    "!pwd\n",
    "\n",
    "!pip install tqdm\n",
    "from glob import glob\n",
    "from tqdm import tqdm\n",
    "\n",
    "import numpy as np\n",
    "import pandas as pd\n",
    "\n",
    "import multiprocessing\n",
    "import time\n",
    "\n",
    "from multiprocessing import Pool, freeze_support"
   ]
  },
  {
   "cell_type": "code",
   "execution_count": 2,
   "metadata": {
    "colab": {
     "base_uri": "https://localhost:8080/"
    },
    "id": "StcBVNPFPu7D",
    "outputId": "20208991-2fea-42db-d805-1a92f549c1a8"
   },
   "outputs": [
    {
     "name": "stdout",
     "output_type": "stream",
     "text": [
      "/hy-tmp\n",
      "['/hy-tmp/corn_histogram_all_full.npz']\n"
     ]
    }
   ],
   "source": [
    "data_dir = os.path.join(home_dir)\n",
    "os.chdir(data_dir)\n",
    "!pwd\n",
    "# !ls\n",
    "\n",
    "files = glob(os.path.join(data_dir, '*.npz'))\n",
    "\n",
    "print(files)"
   ]
  },
  {
   "cell_type": "code",
   "execution_count": 3,
   "metadata": {
    "colab": {
     "base_uri": "https://localhost:8080/"
    },
    "id": "cNJROYwxP93k",
    "outputId": "e5f35caf-01a5-4e73-f59f-0cd6deb0f998"
   },
   "outputs": [
    {
     "name": "stdout",
     "output_type": "stream",
     "text": [
      "<class 'numpy.lib.npyio.NpzFile'> ['output_image', 'output_yield', 'output_year', 'output_locations', 'output_index', 'output_sownareas', 'output_yieldvals']\n",
      "<class 'numpy.ndarray'> (320, 9, 32, 512)\n"
     ]
    }
   ],
   "source": [
    "filename = '/hy-tmp/corn_histogram_all_full.npz'\n",
    "\n",
    "hists = np.load(filename)\n",
    "\n",
    "print(type(hists), list(hists.keys()))\n",
    "print(type(hists['output_image']), hists['output_image'].shape)"
   ]
  },
  {
   "cell_type": "code",
   "execution_count": null,
   "metadata": {
    "colab": {
     "base_uri": "https://localhost:8080/"
    },
    "id": "qk-bTHEGVV0T",
    "outputId": "acca5eb3-8902-403f-a8e6-604f26ba83d4"
   },
   "outputs": [
    {
     "name": "stdout",
     "output_type": "stream",
     "text": [
      "<class 'numpy.ndarray'> (320, 9, 32, 512)\n",
      "(512,)\n",
      "9\n",
      "11 [0, 29, 58, 87, 116, 145, 174, 203, 232, 261, 290]\n",
      "11 [29, 58, 87, 116, 145, 174, 203, 232, 261, 290, 319]\n"
     ]
    }
   ],
   "source": [
    "freeze_support()\n",
    "\n",
    "print(type(hists['output_image']), hists['output_image'].shape)\n",
    "\n",
    "bins_name = list()\n",
    "bins_valu = list()\n",
    "\n",
    "for bin in range(0, hists['output_image'].shape[3]):\n",
    "    bins_name.append(f'bin{bin}')\n",
    "\n",
    "# print(bins_name)\n",
    "print(hists['output_image'][0][0][0].shape)\n",
    "# print(list(hists['output_image'][0][0][0]))\n",
    "print(hists['output_index'][100][1])\n",
    "\n",
    "# fn\n",
    "\n",
    "idx_s = [x for x in range(0,319,29)]\n",
    "idx_e = [x for x in range(29,320,29)]\n",
    "\n",
    "print(len(idx_s), idx_s)\n",
    "print(len(idx_e), idx_e)\n",
    "\n",
    "# idx_s = [x for x in range(0,320,40)]\n",
    "# idx_e = [x for x in range(40,321,40)]\n",
    "\n",
    "# print(len(idx_s), idx_s)\n",
    "# print(len(idx_e), idx_e)\n",
    "\n",
    "# fn\n",
    "\n",
    "def get_ds(idx_s, idx_e):\n",
    "    hists = np.load('/hy-tmp/corn_histogram_all_full.npz')\n",
    "    df = pd.DataFrame()\n",
    "\n",
    "    time_idx = 0\n",
    "    index_idx = 0\n",
    "    for idx in range(idx_s, idx_e):\n",
    "        for time_idx in range(0, hists['output_image'].shape[2]):\n",
    "            for band_idx in range(0, hists['output_image'].shape[1]):\n",
    "                bins_dict = dict(zip(bins_name,list(hists['output_image'][idx][band_idx][time_idx])))\n",
    "\n",
    "                df1 = pd.DataFrame( hists['output_year'][idx], columns=['years'], index=[index_idx] )\n",
    "                df2 = pd.DataFrame( hists['output_yield'][idx], columns=['yield'], index=[index_idx] )\n",
    "                df3 = pd.DataFrame( hists['output_sownareas'][idx], columns=['sownareas'], index=[index_idx] )\n",
    "                df4 = pd.DataFrame( hists['output_yieldvals'][idx], columns=['yieldvals'], index=[index_idx] )\n",
    "                df5 = pd.DataFrame( hists['output_index'][idx][1], columns=['county'], index=[index_idx] )\n",
    "                df6 = pd.DataFrame( f'band_{band_idx}', columns=['bands'], index=[index_idx] )\n",
    "                df7 = pd.DataFrame( time_idx, columns=['time_idx'], index=[index_idx] )\n",
    "                df8 = pd.DataFrame(bins_dict, index=[index_idx])\n",
    "\n",
    "                df_r = pd.concat( [df1 , df2], axis=1)\n",
    "                df_r = pd.concat( [df_r, df3], axis=1)\n",
    "                df_r = pd.concat( [df_r, df4], axis=1)\n",
    "                df_r = pd.concat( [df_r, df5], axis=1)\n",
    "                df_r = pd.concat( [df_r, df6], axis=1)\n",
    "                df_r = pd.concat( [df_r, df7], axis=1)\n",
    "                df_r = pd.concat( [df_r, df8], axis=1)\n",
    "\n",
    "                df = pd.concat( [df, df_r], axis=0)\n",
    "\n",
    "                index_idx = index_idx + 1\n",
    "            \n",
    "    return df\n",
    "\n",
    "with Pool(processes=11) as pool:\n",
    "    results = pool.starmap(get_ds, zip(idx_s, idx_e))\n",
    "\n",
    "# df.to_csv('china_prl.csv')\n",
    "\n",
    "\n",
    "# fn\n",
    "# for indx in range(0, hists.shape[0]):\n",
    "#   for time_idx in range(0, hists.shape[2]):\n",
    "#     for bands in range(0, hists.shape[1]):\n"
   ]
  },
  {
   "cell_type": "code",
   "execution_count": null,
   "metadata": {},
   "outputs": [],
   "source": [
    "print(type(results), len(results))\n",
    "\n",
    "filesave = 'corn_china_pandas.csv'\n",
    "\n",
    "df = pd.DataFrame()\n",
    "for ii in range(0, 11):\n",
    "    df = pd.concat( [df, results[ii]], axis=0 )\n",
    "    \n",
    "df.head()\n",
    "    \n",
    "df.to_csv(filesave)\n",
    "    "
   ]
  },
  {
   "cell_type": "code",
   "execution_count": null,
   "metadata": {
    "colab": {
     "base_uri": "https://localhost:8080/",
     "height": 505
    },
    "id": "vmW-HxrfXprY",
    "outputId": "864f8dbf-623a-47b5-9885-84a23ab37bd4"
   },
   "outputs": [],
   "source": [
    "ds = pd.read_csv(filesave)\n",
    "ds[8340:8390]"
   ]
  },
  {
   "cell_type": "code",
   "execution_count": null,
   "metadata": {},
   "outputs": [],
   "source": [
    "ds"
   ]
  },
  {
   "cell_type": "code",
   "execution_count": 28,
   "metadata": {},
   "outputs": [
    {
     "name": "stdout",
     "output_type": "stream",
     "text": [
      "Start at 2022-12-12 08:58:49.249645889 +0000 UTC\n",
      "\n",
      "\n",
      "Parallel:      5                   Jobs:          5                   \n",
      "Threshold:     50.00MB             PartSize:      auto                \n",
      "VerifyLength:  false               VerifyMd5:     false               \n",
      "CheckpointDir: /root/.hycloud_ossutil_checkpoint\n",
      "\n",
      "\u001b[37m[-------------------------------]\u001b[0m 100.00% \u001b[37m10.55MB/s\u001b[0m 761.86MB/761.86MB 1m12.401s\n",
      "Waiting for the uploaded key to be completed on server side..\n",
      "\n",
      "\n",
      "Upload successfully, 761.86MB, n/a, /hy-tmp/corn_china_pandas_prl11.csv.zip --> oss://corn_china_pandas_prl11.csv.zip, cost [74485], status [200], request id [00000185059004239012062F591B14BE]\n"
     ]
    }
   ],
   "source": [
    "# !zip corn_china_pandas_prl11.csv.zip corn_china_pandas.csv\n",
    "!cp corn_china_pandas.csv corn_china_pandas_prl11.csv.zip\n",
    "!oss cp corn_china_pandas_prl11.csv.zip oss://"
   ]
  },
  {
   "cell_type": "code",
   "execution_count": null,
   "metadata": {},
   "outputs": [],
   "source": [
    "os.system(\"shutdown /s /t 1\")"
   ]
  },
  {
   "cell_type": "code",
   "execution_count": null,
   "metadata": {
    "id": "WwiQwq_iQxPV"
   },
   "outputs": [],
   "source": [
    "print(type(hists['output_image']), hists['output_image'].shape)\n",
    "print(type(hists['output_yield']), hists['output_yield'].shape)\n",
    "print(type(hists['output_year']), hists['output_year'].shape)\n",
    "print(type(hists['output_locations']), hists['output_locations'].shape)\n",
    "print(type(hists['output_index']), hists['output_index'].shape)\n",
    "print(hists['output_year'])\n",
    "# print(hists['output_index'])\n",
    "# fn"
   ]
  },
  {
   "cell_type": "code",
   "execution_count": null,
   "metadata": {
    "id": "jagp-TPRU1Hl"
   },
   "outputs": [],
   "source": []
  },
  {
   "cell_type": "code",
   "execution_count": null,
   "metadata": {
    "id": "lXXNUXtsRRjF"
   },
   "outputs": [],
   "source": [
    "from matplotlib import pyplot as plt\n",
    "# print(hists['output_index'])\n",
    "\n",
    "bands = [x for x in range(0,9,1)]\n",
    "years = [x for x in range(2003, 2019, 1)]\n",
    "times = [x for x in range(0,32,1)]\n",
    "\n",
    "print('years :', years)\n",
    "      \n",
    "counties = [0, 1, 2, 3, 5, 8, 9, 11, 12, 13, 14, 15, 16, 17, 19, 21, 23, 24, 26, 29]\n",
    "\n",
    "num_bins = 512\n",
    "bin_seq = np.linspace(1, num_bins, num_bins + 1) \n",
    "\n",
    "# fig, axs = plt.subplots(1, 9, figsize=(25,5))\n",
    "\n",
    "it = 0\n",
    "for county in range(0,len(counties),1):\n",
    "  fig, axs = plt.subplots(1, 9, figsize=(25,5))\n",
    "  for year in [0,1]:  #range(0,len(years),1): \n",
    "    for band in bands:\n",
    "      for time in times:\n",
    "        density = hists['output_image'][it,band,time,:]\n",
    "        # print(len(density))\n",
    "        axs[band].plot(bin_seq[0:-1], density)\n",
    "      it = it + 1\n",
    "    print(it)\n",
    "\n",
    "  plt.show()\n",
    "  "
   ]
  }
 ],
 "metadata": {
  "colab": {
   "machine_shape": "hm",
   "provenance": []
  },
  "gpuClass": "standard",
  "kernelspec": {
   "display_name": "Python 3 (ipykernel)",
   "language": "python",
   "name": "python3"
  },
  "language_info": {
   "codemirror_mode": {
    "name": "ipython",
    "version": 3
   },
   "file_extension": ".py",
   "mimetype": "text/x-python",
   "name": "python",
   "nbconvert_exporter": "python",
   "pygments_lexer": "ipython3",
   "version": "3.8.10"
  }
 },
 "nbformat": 4,
 "nbformat_minor": 4
}
